{
  "nbformat": 4,
  "nbformat_minor": 0,
  "metadata": {
    "colab": {
      "provenance": [],
      "include_colab_link": true
    },
    "kernelspec": {
      "name": "python3",
      "display_name": "Python 3"
    },
    "language_info": {
      "name": "python"
    }
  },
  "cells": [
    {
      "cell_type": "markdown",
      "metadata": {
        "id": "view-in-github",
        "colab_type": "text"
      },
      "source": [
        "<a href=\"https://colab.research.google.com/github/diana389/EP-Labs/blob/main/Machine_Learning_Introduction.ipynb\" target=\"_parent\"><img src=\"https://colab.research.google.com/assets/colab-badge.svg\" alt=\"Open In Colab\"/></a>"
      ]
    },
    {
      "cell_type": "markdown",
      "metadata": {
        "id": "6SQCVuhLAgJ6"
      },
      "source": [
        "# <center>Performance Evaluation in Machine Learning</center>"
      ]
    },
    {
      "cell_type": "markdown",
      "metadata": {
        "id": "G3Acp-WI-n9Q"
      },
      "source": [
        "## 1. Introduction\n",
        "\n",
        "Just like chess players improve their technique by watching hundreds of games from top players, computers can be able to perform certain tasks by “looking” at data. These computers are sometimes called “**machines**” and this data observation step is also known as “**learning**”. Simple, isn’t it? So let’s define “**Machine Learning**” (ML) more formally, as stated by Tom Mitchell. A program is said to learn from experience E with respect to some task T and some performance measure P, if its performance on T, as measured by P, improves with experience E. Let’s get more **-h** and provide an example. Say that T is the process of playing chess, E is a set of chess matches on which the algorithm was trained and P is the probability for the program to win the next game of chess.\n",
        "\n",
        "What is truly important however, is that machine learning algorithms, unlike traditional ones, are not required to be pre-programmed explicitly to solve a particular task. Just like in the previous example, they **learn** from the data fed into them and afterwards, are able to **predict** results for new scenarios. As you might expect, this isn’t just black magic. The majority of ML algorithms are based on some maths and statistics, but also on a fair amount of engineering. 😎\n",
        "\n",
        "<br/>\n",
        "\n",
        "![machine-learning-flow](https://miro.medium.com/max/1400/1*E7sk9C5buY9KnBUDflI9fQ.png)\n",
        "[🌎 &nbsp;Image Source](https://medium.com/@tekaround/train-validation-test-set-in-machine-learning-how-to-understand-6cdd98d4a764)"
      ]
    },
    {
      "cell_type": "markdown",
      "metadata": {
        "id": "9qb_cHSUBdGz"
      },
      "source": [
        "---\n",
        "> ### 🚨🚨🚨 Machine learning algorithms learn from data and they **don’t** have to be programmed explicitly!\n",
        "---\n",
        "\n"
      ]
    },
    {
      "cell_type": "markdown",
      "metadata": {
        "id": "oLzfz9DaExIc"
      },
      "source": [
        "## 2. Supervised Learning vs Unsupervised Learning\n",
        "\n",
        "Generally, in machine learning, there are two types of tasks: **supervised** and **unsupervised**."
      ]
    },
    {
      "cell_type": "markdown",
      "metadata": {
        "id": "6R1yaPwLCWnu"
      },
      "source": [
        "### A. Supervised Learning\n",
        "\n",
        "We refer to the former when we have prior knowledge of what the output of the system should look like. More formally, after going through lots of `(X, y)` pairs, the model should be able to determine that **mapping function** `ĥ` which approximates `f(X) = y` as accurately as possible. In machine learning, the entire set of `(X, y)` pairs is often called **corpus** or **dataset** and an algorithm that learned from this corpus is sometimes called a **trained model** or simply a **model**.\n",
        "\n",
        "For example, let’s say that you want to build a smart car selling platform and you want to provide sellers with the ability to know what should be a “fair price” based on the **specs** and **age** of their cars. For that, you would need to provide your model with a set of tuples that might look like this:\n",
        "\n",
        "`(bhp, fuel_type, displacement, weight, torque, suspension, car_age, car_price)`\n",
        "\n",
        "In this case, **X** is formed from the tuple slices `(bhp, fuel_type, displacement, weight, torque, suspension, car_age)` and each slice component is called a **feature**. Likewise, **y** is represented by the `car_price` and it's usually called **label** or **ground truth**. After learning from the provided corpus, a process that is commonly called **model fitting**, our model should be able to predict an approximation of the car price `ŷ` for new ages and specs **X**.\n",
        "\n",
        "\n",
        "<br/>\n",
        "\n",
        "![supervised-learning](https://miro.medium.com/max/1400/0*7lHSm-TrWkbxckI9.webp)\n",
        "\n",
        "[🌎 &nbsp;Image Source](https://chisoftware.medium.com/supervised-vs-unsupervised-machine-learning-7f26118d5ee6)\n",
        "\n",
        "\n"
      ]
    },
    {
      "cell_type": "markdown",
      "metadata": {
        "id": "FfCeTi7XtboS"
      },
      "source": [
        "---\n",
        "> ### 🚨🚨🚨 In the dataset of each **supervised** machine **learning** task, there will always be a **label y** that can be associated with a set of **features X**!\n",
        "---\n",
        "\n",
        "Because a **numerical** or **continuous** output is expected as a result, the aforementioned scenario is an example of a **regression task**. If y was a label that can take the values “cheap”, “fair” or “expensive”, then that would be called a **classification task** and y can also be referred to as a **class**.\n",
        "\n",
        "<br/>\n",
        "\n",
        "![classification-vs-regression](https://ocw.cs.pub.ro/courses/_media/ep/labs/3._classification_vs_regression.png?w=600&tok=f48ebb)\n",
        "\n",
        "[🌎 &nbsp;Image Source](https://towardsdatascience.com/do-you-know-how-to-choose-the-right-machine-learning-algorithm-among-7-different-types-295d0b0c7f60)"
      ]
    },
    {
      "cell_type": "markdown",
      "metadata": {
        "id": "mtDdxuKjtVyY"
      },
      "source": [
        "---\n",
        "> ### 🚨🚨🚨 Two examples of **supervised learning** tasks are **regression** and **classification**!\n",
        "---"
      ]
    },
    {
      "cell_type": "markdown",
      "metadata": {
        "id": "0Xa5b23tGfSG"
      },
      "source": [
        "### B. Unsupervised Learning\n",
        "\n",
        "In the case of **unsupervised learning**, the training data is not labeled anymore, so the machine learning algorithm must take decisions without having a ground truth as reference. That means that your dataset is no longer made out of (X, y) pairs, but only of X entries. Consequently, the job of the model would be to provide meaningful **insights** about those X entries, by finding various **patterns** in the data.\n",
        "\n",
        "<br/>\n",
        "\n",
        "![unsupervised-learning](https://miro.medium.com/max/977/0*1F-c2hszf8NX-7Ku)\n",
        "\n",
        "[🌎 &nbsp;Image Source](https://medium.com/@rahulkaliyath/day-8-intro-to-unsupervised-learning-3821ef1541a)\n",
        "\n",
        "The most common tasks for this learning approach are **clustering algorithms**. In these type of problems, the model must learn how to group various data together, forming **components** or **clusters**. Say that having a table with information about all the Facebook users, you would like to recommend personalized ads for every single person. This sounds like a very difficult task, because there is a huge number of users on the platform. But what if we group users together based on their **traits** (or **features** as your Data Scientist within you might say)? Then, we can suggest the same ads bundle to a whole group of users, making the advertising process easier and cheaper.\n",
        "\n",
        "![unsupervised-learning-example](https://miro.medium.com/max/700/1*af-tNiqd-3_ResjoDOFm5A.png)\n",
        "\n",
        "[🌎 &nbsp;Image Source](https://towardsdatascience.com/introduction-to-machine-learning-for-beginners-eed6024fdb08)\n"
      ]
    },
    {
      "cell_type": "markdown",
      "metadata": {
        "id": "ey7XBkHutz6B"
      },
      "source": [
        "---\n",
        "> ### 🚨🚨🚨 In the dataset of each **unsupervised** machine **learning** task, there will exist **only X** entries used to identify **patterns** and **insights** about data!\n",
        "---"
      ]
    },
    {
      "cell_type": "markdown",
      "metadata": {
        "id": "_IxeJKeiITRq"
      },
      "source": [
        "## 3. Performance Evaluation in Machine Learning\n",
        "\n",
        "Generally, with machine learning algorithms, in the early phase of development, the focus is less on the computational resources (RAM, CPU, IO etc.) and more on the ability of the model to **generalize** well on the data. That means that our algorithm is trained well enough to provide accurate answers for data that has never been seen before (predict a car price for a new car posted on the platform, classify a new vehicle or assign a freshly registered Facebook user to a group). Hence, at first, we try to build a robust and accurate model and then we work towards making it function as computationally inexpensive as possible.\n",
        "\n",
        "---\n",
        "> ### 🚨🚨🚨 In machine learning, traditional evaluation metrics (RAM, CPU, IO) are not used as frequently!\n",
        "---\n"
      ]
    },
    {
      "cell_type": "markdown",
      "metadata": {
        "id": "RQVgt9h5I5lc"
      },
      "source": [
        "### A. Training & Test Sets\n",
        "\n",
        "Evaluating machine learning algorithms is dependent on the type of problem we are trying to solve. But in most cases, we would want to split the data into a **training set** and a **test set**. As the name suggests, the former will be used to actually train the model and the later will be used to verify how well the model generalizes on unseen data. On the most common machine learning tasks, the split ratio ranges from **80-20** to **90-10**, depending on the size of the corpus. When a huge amount of data is operated (say millions or billions of entries), a smaller proportion of the dataset is used as a test set (even 1%) because the actual number of test entries are considered sufficiently numerous. For instance, 1% of 10M entries is 100k and that’s generally regarded as **a lot of data** to test on.\n",
        "\n",
        "![training-set-and-test-set](https://ocw.cs.pub.ro/courses/_media/ep/labs/6._training_and_test_sets.png?w=600&tok=2d3bd9)\n",
        "\n",
        "[🌎 &nbsp;Image Source](https://data-flair.training/blogs/train-test-set-in-python-ml/)\n"
      ]
    },
    {
      "cell_type": "markdown",
      "metadata": {
        "id": "GRlgJASst-yX"
      },
      "source": [
        "---\n",
        "> ### 🚨🚨🚨 In most problems, the data is split into a **training set** used in model training and a **test set** used in performance evaluation!\n",
        "---"
      ]
    },
    {
      "cell_type": "markdown",
      "metadata": {
        "id": "2s2WEJ63KFDO"
      },
      "source": [
        "### B. Classification Problems\n",
        "\n",
        "Let’s begin our performance analysis journey by analyzing a **classification problem**. Let’s suppose that you have a model that was trained to predict whether a given image corresponds to a cat or not. As you already know, this is a **supervised learning** task in which the model must learn to **predict** one of **two classes** - “cat” or “non-cat”. In this case, the model is also called a **binary classifier**.\n",
        "\n",
        "![brittish-shorthair-kitten](https://images.squarespace-cdn.com/content/v1/525a1ae4e4b0b7382f191ee4/1527746265982-2PIBO5N32RF1WKTYACYI/British-Shorthair-kitten-cute-squat-3000x2000.jpg?format=1500w)\n",
        "\n",
        "[🌎 &nbsp;Image Source](http://www.british-shorthair-kitten.com/)\n",
        "\n",
        "#### Confusion Matrix\n",
        "\n",
        "You fit the model with your training data, you ask it for predictions on the test set and now you have two results: the ground truth **y** that was part of your dataset and the predictions **ŷ** that have just been yielded by your machine learning algorithm. So how do you assess your model in this particular scenario? One way is to build a **confusion matrix**, like the one below:\n",
        "\n",
        "![confusion-matrix](https://glassboxmedicine.files.wordpress.com/2019/02/confusion-matrix.png?w=816)\n",
        "\n",
        "[🌎 &nbsp;Image Source](https://glassboxmedicine.com/2019/02/17/measuring-performance-the-confusion-matrix/)\n",
        "\n",
        "Now don’t get confused (excuse the pun 🤦. It’s actually quite simple to interpret it. There are **4 possible predictions** yielded by your binary classifier:\n",
        "\n",
        "  * **True Positives (y = ŷ and ŷ=”cat”):**\n",
        "the model identified a cat in the image and in that image it is actually a cat.\n",
        "\n",
        "  * **False Positives (y != ŷ and ŷ=”cat”):**\n",
        "the model identified a cat in the image, but there was no cat in the image.\n",
        "\n",
        "  * **False Negatives (y != ŷ and ŷ=”non-cat”):**\n",
        "the model did not recognize a cat in the image, but there was a cat in the image.\n",
        "\n",
        "  * **True Negatives (y = ŷ and ŷ=”non-cat”):**\n",
        "the model did not recognize a cat in the image and in the image there was no cat indeed.\n",
        "\n",
        "---\n",
        "> ### 🚨🚨🚨 The **first step** in analyzing the performance of a **classifier** is to build a **confusion matrix**!\n",
        "---\n",
        "\n",
        "These 4 scenarios can have different levels of importance, depending on the problem one wants to solve. For a smart antivirus, keeping the number of false negatives as low as possible is crucial, even if that means an increase in the false positives. Naturally, it’s better to have annoying warnings than having your computer infected because the antivirus was unable to identify the threat. But if you don’t necessarily have unusual requirements for you model and you just want to assess its generic performance, there are 3 metrics that can be inferred from this matrix:\n",
        "\n",
        "#### Accuracy\n",
        "\n",
        "This is the most intuitive metric and represents the number of correctly predicted labels over the number of total predictions, the actual value of prediction (positive or negative) being irrelevant. Again, judging the model by this single metric can be misleading. Consider the case of credit card transaction frauds. There could be a lot of transactions that are perfectly valid, but only a handful of them are frauds. A model that trains on this data could learn to predict that all of the transactions are safe and the ones that are fraudulent are just outliers. Calculating the accuracy on a dataset of 1 million transactions would yield 99.9%. But our model is useless, because letting 1000 frauds unnoticed cannot be allowed.\n",
        "\n",
        "![accuracy](https://ocw.cs.pub.ro/courses/_media/ep/labs/16._accuracy.png?w=400&tok=dbbf3b)\n",
        "\n",
        "#### Precision\n",
        "\n",
        "The precision is the total number of correctly classified positive examples divided by the total number of predicted positive examples. If the precision is very high, the probability for our model of classifying non-cat images as cat images is quite low.\n",
        "\n",
        "![precision](https://ocw.cs.pub.ro/courses/_media/ep/labs/17._precision.png?w=400&tok=eca58f)\n",
        "\n",
        "#### Recall\n",
        "\n",
        "The recall is the total number of correctly classified positive examples divided by the total number of actual positive examples. If the recall is very high, the probability for our model of misclassifying cat images is quite low.\n",
        "\n",
        "![recall](https://ocw.cs.pub.ro/courses/_media/ep/labs/18._recall.png?w=400&tok=57e5df)\n",
        "\n",
        "When you have **high recall** and **low precision**, most of the cat images are correctly recognized, but there are a lot of false positives. In contrast, when you have **low recall** and **high precision**, we miss a lot of cat images, but those predicted as cat images have a high probability of being indeed cat images and not something else.\n",
        "\n",
        "![confusion-matrix-sketch](https://miro.medium.com/max/1854/1*uR09zTlPgIj5PvMYJZScVg.png)\n",
        "\n",
        "[🌎 &nbsp;Image Source](https://towardsdatascience.com/understanding-confusion-matrix-a9ad42dcfd62)\n",
        "\n",
        "#### F1 Score\n",
        "\n",
        "Ideally, you would want to have both **high recall** and **high precision**, but that is not always possible. So you can choose the trade-off you are most comfortable with or you can combine the 2 metrics into 1, by using the **F1 score**, which is actually the harmonic mean of the 2:\n",
        "\n",
        "![f1-score](https://ocw.cs.pub.ro/courses/_media/ep/labs/19._f1_score.png?w=400&tok=1b9b39)\n",
        "\n",
        "This single metric is more generic, goes from **0** (worst) to **1** (best) and together with accuracy, can give you a solid intuition on the performance of your model.\n",
        "\n",
        "---\n",
        "> ### 🚨🚨🚨 From the **confusion matrix** you can extract the **accuracy**, **precision** and **recall**!\n",
        "---\n",
        "\n",
        "#### Generic Confusion Matrix\n",
        "\n",
        "Don’t take the terms “positive” and “negative” written in the confusion matrix above literally! They are actually placeholders for the 2 classes (“cat” and “non-cat”) the model is trying to predict. This means that you can use more generic classes like “cat” and “dog” or “human” and “animal”, depending on the problem you want to solve. As a consequence, **each metric** (accuracy, precision, recall or F1 score) is computed **per class** and if you want to obtain a **generic score** for the model, you must compute their **average**. For instance, if you have a recall of **0.6** for \"**cat**\" and **0.5** for \"**dog**\", the **average recall** of the model will be **0.55**.\n",
        "\n",
        "Consequently, the confusion matrix can be generalized to more than 2 classes (see the image below), having the same metrics and ways of computing them.\n",
        "\n",
        "![generic-confusion-matrix](https://res.cloudinary.com/practicaldev/image/fetch/s--cRGF5_MX--/c_limit%2Cf_auto%2Cfl_progressive%2Cq_auto%2Cw_880/https://thepracticaldev.s3.amazonaws.com/i/hri4evvbu1t2v7mmmvct.png)\n",
        "\n",
        "[🌎 &nbsp;Image Source](https://dev.to/overrideveloper/understanding-the-confusion-matrix-264i)\n",
        "\n",
        "\n",
        "\n"
      ]
    },
    {
      "cell_type": "markdown",
      "metadata": {
        "id": "A4x2EA9fnBL1"
      },
      "source": [
        "### C. Regression Problems\n",
        "\n",
        "As it was previously mentioned, **supervised machine learning** can also imply solving **regression tasks**, where a **numerical** or **continuous** value is used as a label. Let’s take an example. Suppose that you want to predict the budget for an advertisement campaign, based on the revenue of the company. For this task, your model will learn from a training set of (X, y) pairs and will try to find the best **ĥ** that approximates the behaviour of the function **f(X) = y**. If we assume that the relationship between the two is **linear**, your model must learn how to **draw a line** that fits the points (X, y) the best. A visual representation can be seen in the figure below:\n",
        "\n",
        "![linear-regression](https://stackabuse.s3.amazonaws.com/media/multiple-linear-regression-with-python-1.png)\n",
        "\n",
        "[🌎 &nbsp;Image Source](https://stackabuse.com/multiple-linear-regression-with-python/)\n",
        "\n",
        "#### Root Mean Squared Error\n",
        "\n",
        "But how do we know if that line is drawn correctly? Well, first we must define an **error** or **loss function** that can mathematically indicate us how far from the points the line has been drawn. In linear regression tasks, the most common approach is to use the **root mean squared error (RMSE)**, depicted below. You can sometimes get rid of the root and just compute the **MSE** to avoid extra computations.\n",
        "\n",
        "![rmse](https://ocw.cs.pub.ro/courses/_media/ep/labs/20._rmse.png?w=400&tok=535cdc)\n",
        "\n",
        "In this formula, **y<sub>j</sub>** is the ground truth and **ŷ<sub>j</sub>** is the result of the partially learned function **ĥ(X<sub>j</sub>)**. Basically, the model must apply successive corrections to ĥ, such that the predicted ŷ<sub>j</sub> values lead to a smaller RMSE. This process of minimizing the loss is also called **optimization** and is one of the foundational principles of machine learning. You can find more about it [here](https://towardsdatascience.com/linear-regression-using-gradient-descent-97a6c8700931).\n",
        "\n",
        "Similarly to the classification tasks, for regression problems, the value of the RMSE can be used as a **performance metric** for the model.\n",
        "\n",
        "#### R² Correlation\n",
        "\n",
        "Now let’s say that your model was properly trained and you have some predicted labels **ŷ** and some ground truth values **y**. In the case of classification problems, with these two pieces of information you could immediately compute the F1 score or the accuracy. But with regression, a 0 to 1 score cannot be simply derived. One metric that can be used however, is the **R<sup>2</sup> correlation** and it is computed using the following formula:\n",
        "\n",
        "![r2-correlation](https://ocw.cs.pub.ro/courses/_media/ep/labs/21._r-squared_score.png?w=400&tok=30c26d)\n",
        "\n",
        "where **ŷ<sub>j</sub>** is the predicted value, **ÿ** is the mean of the ground truth labels and **y<sub>j</sub>** is the ground truth. This score lies between **-∞** and **1** and has the following interpretation:\n",
        "\n",
        "  * **Close to 1:** high positive linear correlation between X and y\n",
        "  * **Close to 0:** a linear correlation between X and y cannot be identified\n",
        "  * **Close to -∞:** high negative linear correlation between X and y\n",
        "\n",
        "These 3 scenarios are visually represented in the figures below:\n",
        "\n",
        "![correlation-types](https://statistics.laerd.com/statistical-guides/img/pearson-1-small.png)\n",
        "\n",
        "[🌎 &nbsp;Image Source](https://statistics.laerd.com/stata-tutorials/pearsons-correlation-using-stata.php)\n",
        "\n",
        "\n"
      ]
    },
    {
      "cell_type": "markdown",
      "metadata": {
        "id": "trKKzpYuusfa"
      },
      "source": [
        "---\n",
        "> ### 🚨🚨🚨 For **regression tasks** you can use **RMSE** and **R-squared score** as performance metrics!\n",
        "---"
      ]
    },
    {
      "cell_type": "markdown",
      "metadata": {
        "id": "FSevKrJ_okWi"
      },
      "source": [
        "### D. Underfitting vs Overfitting\n",
        "\n",
        "Splitting the data into a **training set** and a **test set** is not only helping us to determine the **accuracy** or **error** of the model’s predictions, but can also give us an insight about its **behaviour** or **generalization capabilities**.\n",
        "\n",
        "Let’s take a trained binary classifier as an example and the accuracy as a performance metric. If it has a **small test score**, but a **high training score**, the model relied too much on the training data and is not able to generalize well on entries that has never seen before. In this case, we say that it has **overfit** the training data. In this particular case, the model is said to have a **high variance**. In contrast, if the model learned a function that is too generic, the problem of **underfitting** or **high bias** occurs. This time, the problem can be inferred from a **training score** that is **too small**. These situations were visually represented in the figures below:\n",
        "\n",
        "![fitting](https://miro.medium.com/max/1400/1*JZbxrdzabrT33Yl-LrmShw.png)\n",
        "\n",
        "[🌎 &nbsp;Image Source](https://medium.com/greyatom/what-is-underfitting-and-overfitting-in-machine-learning-and-how-to-deal-with-it-6803a989c76)\n",
        "\n",
        "The underlying causes of the aforementioned problems depend heavily on the model and how its **hyperparameters** were fine-tuned. Discussing them is outside the scope of this laboratory class, but one can learn more about those topics from these articles: [Underfitting & Overfitting](https://towardsdatascience.com/what-are-overfitting-and-underfitting-in-machine-learning-a96b30864690) and [Hyperparameters](https://towardsdatascience.com/understanding-hyperparameters-and-its-optimisation-techniques-f0debba07568)."
      ]
    },
    {
      "cell_type": "markdown",
      "metadata": {
        "id": "Xl3ZolRrvEg1"
      },
      "source": [
        "---\n",
        "> ### 🚨🚨🚨 Besides looking at the usual **performance metrics**, one must also notice if the model **appropriately fits** the data!\n",
        "---"
      ]
    },
    {
      "cell_type": "markdown",
      "metadata": {
        "id": "cO3kOM-EpVCs"
      },
      "source": [
        "### E. Clustering Algorithms\n",
        "\n",
        "In the end, we should talk a little bit about **unsupervised learning**. As you already know, for such tasks, there is **no ground truth** - just a set of X values that might have some **underlying structure** or **pattern** that can be learned. Evaluating a model without having something as reference might seem a pretty difficult task. And in some scenarios, you might be right!\n",
        "\n",
        "Say that we wanted to group images containing handwritten digits into **clusters** and at the end of the learning process, our model grouped the data like this:\n",
        "\n",
        "![digit-clustering](https://miro.medium.com/max/3200/1*R7A0qNVuOjgGh6pj4WUq5A.png)\n",
        "\n",
        "[🌎 &nbsp;Image Source](https://towardsdatascience.com/graduating-in-gans-going-from-understanding-generative-adversarial-networks-to-running-your-own-39804c283399)\n",
        "\n",
        "At first glance, the clustering outcome looks good, but how can we express this “good-looking” result in a more formal manner? One solution is to measure how compact the clusters are, yet distant from one another, by computing a **silhouette score**. Because the formulas are too cumbersome to write in here, I will leave you a [link](https://en.wikipedia.org/wiki/Silhouette_(clustering)), where everything is explained clearly. However, one might understand the concept by looking at this simple example:\n",
        "\n",
        "![silhouette-score](https://lh4.googleusercontent.com/-ku6hE_438mo/TXA0yYUWLTI/AAAAAAAAACs/UqtvwlXLkc0/s320/picture2.gif)\n",
        "\n",
        "[🌎 &nbsp;Image Source](http://blog.data-miners.com/2011/03/cluster-silhouettes.html)\n"
      ]
    },
    {
      "cell_type": "markdown",
      "metadata": {
        "id": "d47Gl2yeksCZ"
      },
      "source": [
        "**Exercise 0: Prerequisite**\n",
        "\n",
        "Import the necessary libraries and define some printing functions for later use."
      ]
    },
    {
      "cell_type": "code",
      "metadata": {
        "id": "PlI5jmW3XnTr"
      },
      "source": [
        "# Import the necessary libraries\n",
        "import numpy as np\n",
        "import pandas as pd\n",
        "import matplotlib.pyplot as plt\n",
        "from sklearn.linear_model import LinearRegression\n",
        "from sklearn.tree import DecisionTreeClassifier\n",
        "from sklearn.model_selection import train_test_split\n",
        "from sklearn.cluster import KMeans\n",
        "from sklearn.datasets import make_blobs"
      ],
      "execution_count": 1,
      "outputs": []
    },
    {
      "cell_type": "code",
      "metadata": {
        "id": "ncBYKmhFaZJs"
      },
      "source": [
        "# Load various printing functions\n",
        "\n",
        "# Pretty prints a data frame without display limits\n",
        "def print_df(df):\n",
        "    with pd.option_context('display.max_rows', None, 'display.max_columns', None):\n",
        "        print(df)\n",
        "\n",
        "\n",
        "# Pretty prints the results of the classifier performance evaluation\n",
        "def print_classifier_results(accuracy, precision, recall, f1, mode):\n",
        "    print()\n",
        "    print('~~~~~~~~~~~~~~~~ CLASSIFICATION RESULTS (' + mode.upper() + ') ~~~~~~~~~~~~~~~~')\n",
        "    print(' Accuracy: ' + str(accuracy))\n",
        "    print('Precision: ' + str(precision))\n",
        "    print('   Recall: ' + str(recall))\n",
        "    print(' F1 Score: ' + str(f1))\n",
        "\n",
        "\n",
        "# Pretty prints the results of the regressor performance evaluation\n",
        "def print_regressor_results(rmse, mae, r_squared, mode):\n",
        "    print()\n",
        "    print('~~~~~~~~~~~~~~~~ REGRESSION RESULTS (' + mode.upper() + ') ~~~~~~~~~~~~~~~~')\n",
        "    print('Root Mean Squared Error (RMSE): ' + str(rmse))\n",
        "    print('     Mean Absolute Error (MAE): ' + str(mae))\n",
        "    print('               R-squared Score: ' + str(r_squared))\n",
        "\n",
        "\n",
        "# Pretty prints the results of the multiple classifications\n",
        "def print_fitting_results(accuracy_list):\n",
        "\n",
        "    print()\n",
        "    print('~~~~~~~~~~~~~~~~ CLASSIFICATION RESULTS ~~~~~~~~~~~~~~~~')\n",
        "\n",
        "    for accuracy_pair in accuracy_list:\n",
        "        print('Training Set Accuracy 1: ' + str(accuracy_pair[0]))\n",
        "        print('    Test Set Accuracy 1: ' + str(accuracy_pair[1]))\n",
        "        print()\n",
        "\n",
        "\n",
        "# Pretty prints the results of the clustering algorithm\n",
        "def print_clustering_results(silhouette_score):\n",
        "\n",
        "    print()\n",
        "    print('~~~~~~~~~~~~~~~~ CLUSTERING RESULTS ~~~~~~~~~~~~~~~~')\n",
        "    print('Silhouette Score: ' + str(silhouette_score))\n"
      ],
      "execution_count": 2,
      "outputs": []
    },
    {
      "cell_type": "markdown",
      "metadata": {
        "id": "JtnzaEOtgxHl"
      },
      "source": [
        "**Exercise 1: Classification (30p)**\n",
        "\n",
        "In this exercise, you will learn how to properly evaluate a **classifier**. We chose a **decision tree** for this example, but feel free to explore other alternatives. You can find out more about decision trees [here](https://towardsdatascience.com/decision-trees-explained-3ec41632ceb6). For all the associated tasks, you will use the [diabetes.csv](https://github.com/vladastefanescu/machine-learning-introduction/blob/main/diabetes.csv) dataset. The model must learn to determine whether the patient suffers from diabetes (**0** or **1**) by looking at a dataset with the following **features**:\n",
        "\n",
        "  * Number of pregnancies\n",
        "  * Glucose level\n",
        "  * Blood pressure\n",
        "  * Skin thickness\n",
        "  * Insulin level\n",
        "  * Body Mass Index (BMI)\n",
        "  * Diabetes pedigree function (likelihood of diabetes based on family history)\n",
        "  * Age"
      ]
    },
    {
      "cell_type": "code",
      "metadata": {
        "colab": {
          "base_uri": "https://localhost:8080/"
        },
        "id": "XK-CVa-Lg1y6",
        "outputId": "57dcf55f-6b68-45f0-abee-2a47e03df7ea"
      },
      "source": [
        "# Load the dataset from the local session folder\n",
        "classification_dataset = pd.read_csv(\"https://raw.githubusercontent.com/vladastefanescu/machine-learning-introduction/main/diabetes.csv\")\n",
        "\n",
        "# Take a look at the first entries of the dataset\n",
        "print_df(classification_dataset.head())"
      ],
      "execution_count": 3,
      "outputs": [
        {
          "output_type": "stream",
          "name": "stdout",
          "text": [
            "   Pregnancies  Glucose  BloodPressure  SkinThickness  Insulin   BMI  \\\n",
            "0            6      148             72             35        0  33.6   \n",
            "1            1       85             66             29        0  26.6   \n",
            "2            8      183             64              0        0  23.3   \n",
            "3            1       89             66             23       94  28.1   \n",
            "4            0      137             40             35      168  43.1   \n",
            "\n",
            "   DiabetesPedigreeFunction  Age  Outcome  \n",
            "0                     0.627   50        1  \n",
            "1                     0.351   31        0  \n",
            "2                     0.672   32        1  \n",
            "3                     0.167   21        0  \n",
            "4                     2.288   33        1  \n"
          ]
        }
      ]
    },
    {
      "cell_type": "code",
      "metadata": {
        "id": "YikM5ILSiRK5"
      },
      "source": [
        "# Extract the features from the dataset\n",
        "classification_X = classification_dataset.iloc[:, :-1]\n",
        "\n",
        "# Extract the labels from the dataset\n",
        "classification_y = classification_dataset.iloc[:, -1:]"
      ],
      "execution_count": 4,
      "outputs": []
    },
    {
      "cell_type": "code",
      "metadata": {
        "id": "8e-Ev9JRid7F"
      },
      "source": [
        "# Split the data into a training set and a test set with a 80-20 ratio\n",
        "classification_X_train, classification_X_test, classification_y_train, classification_y_test = train_test_split(classification_X, classification_y, test_size=0.2, random_state=42)"
      ],
      "execution_count": 5,
      "outputs": []
    },
    {
      "cell_type": "code",
      "metadata": {
        "id": "MTyLuOBGiqxj"
      },
      "source": [
        "# Build a classifier (less important: a decision tree will be used)\n",
        "classifier = DecisionTreeClassifier(random_state=42)\n",
        "\n",
        "# Fit data from the training set to the classifier\n",
        "classifier.fit(classification_X_train, classification_y_train)\n",
        "\n",
        "# Make predictions on the test set\n",
        "classification_y_pred = classifier.predict(classification_X_test)"
      ],
      "execution_count": 6,
      "outputs": []
    },
    {
      "cell_type": "markdown",
      "metadata": {
        "id": "l0R2wgNpi4Aq"
      },
      "source": [
        "**Task A (15p)**\n",
        "\n",
        "Evaluate the classifier by **manually** computing the **accuracy**, **precision**, **recall** and **F1 score**. These metrics are derived from the **confusion matrix** but you don't have to build this matrix yourself. You can use [Scikit-learn](https://www.google.com/search?q=scikit-learn+confusion+matrix&oq=scikit-learn+confusion+matrix) for that."
      ]
    },
    {
      "cell_type": "code",
      "metadata": {
        "id": "OBVsEPkwi8LL"
      },
      "source": [
        "# Computes the accuracy of the model using the confusion matrix\n",
        "def compute_accuracy(cm):\n",
        "    # TODO - TASK A\n",
        "    correct = np.trace(cm)\n",
        "    total = np.sum(cm)\n",
        "    accuracy = correct / total\n",
        "\n",
        "    return accuracy"
      ],
      "execution_count": 7,
      "outputs": []
    },
    {
      "cell_type": "code",
      "metadata": {
        "id": "RgXU3QoHjBku"
      },
      "source": [
        "# Computes the precision of the model using the confusion matrix\n",
        "def compute_precision(cm):\n",
        "    # TODO - TASK A\n",
        "    TP = cm[1, 1]\n",
        "    FP = cm[0, 1]\n",
        "    precision = TP / (TP + FP) if (TP + FP) > 0 else 0\n",
        "\n",
        "    return precision"
      ],
      "execution_count": 8,
      "outputs": []
    },
    {
      "cell_type": "code",
      "metadata": {
        "id": "b2fTgY3VjDGl"
      },
      "source": [
        "# Computes the recall of the model using the confusion matrix\n",
        "def compute_recall(cm):\n",
        "    # TODO - TASK A\n",
        "    TP = cm[1, 1]\n",
        "    FN = cm[1, 0]\n",
        "    recall = TP / (TP + FN) if (TP + FN) > 0 else 0\n",
        "\n",
        "    return recall"
      ],
      "execution_count": 9,
      "outputs": []
    },
    {
      "cell_type": "code",
      "metadata": {
        "id": "cQfdlB9TjFfw"
      },
      "source": [
        "# Computes the F1 score of the model using the precision and recall\n",
        "def compute_f1_score(precision, recall):\n",
        "    # TODO - TASK A\n",
        "    f1 = 2 * precision * recall / (precision + recall) if (precision + recall) > 0 else 0\n",
        "\n",
        "    return f1"
      ],
      "execution_count": 10,
      "outputs": []
    },
    {
      "cell_type": "markdown",
      "metadata": {
        "id": "Jp4RE1G70fFn"
      },
      "source": [
        "Before anything else, we must compute the **confusion matrix**. Luckily, the **metrics** package of the *Scikit-learn* library has just the right function for this task:\n",
        "\n",
        "```\n",
        "cm = confusion_matrix(y_test, y_pred)\n",
        "cm[0][0], cm[1][1] = cm[1][1], cm[0][0]\n",
        "```\n",
        "\n",
        "---\n",
        "> #### 🚨🚨🚨 Please note that in order to compute a binary confusion matrix that looks just like the ones used in the above diagrams, a small swap has to be performed.\n",
        "---\n",
        "\n",
        "For this exercise we simply identify the **TP**, **TN**, **FP**, **FN** terms on the **confusion matrix** and then compute the various metrics using their formulas. For instance, for the **precision**, we can write the following lines of code:\n",
        "\n",
        "```\n",
        "precision = cm[0][0] / (cm[0][0] + cm[0][1])\n",
        "```\n",
        "\n",
        "---\n",
        "> #### 🚨🚨🚨 You should be able to compute the **accuracy**, **recall** and **F1 score** by yourself.\n",
        "---"
      ]
    },
    {
      "cell_type": "code",
      "metadata": {
        "colab": {
          "base_uri": "https://localhost:8080/"
        },
        "id": "kDyqs3O2jLku",
        "outputId": "9404f7ce-9122-4f2c-fca5-6723a79503fc"
      },
      "source": [
        "# TODO - TASK A\n",
        "from sklearn.metrics import confusion_matrix\n",
        "\n",
        "cm = confusion_matrix(classification_y_test, classification_y_pred)\n",
        "cm[0][0], cm[1][1] = cm[1][1], cm[0][0]\n",
        "\n",
        "task_a_accuracy = compute_accuracy(cm)\n",
        "task_a_precision = compute_precision(cm)\n",
        "task_a_recall = compute_recall(cm)\n",
        "task_a_f1 = compute_f1_score(task_a_precision, task_a_recall)\n",
        "\n",
        "print_classifier_results(task_a_accuracy, task_a_precision, task_a_recall, task_a_f1, 'dumb')"
      ],
      "execution_count": 14,
      "outputs": [
        {
          "output_type": "stream",
          "name": "stdout",
          "text": [
            "\n",
            "~~~~~~~~~~~~~~~~ CLASSIFICATION RESULTS (DUMB) ~~~~~~~~~~~~~~~~\n",
            " Accuracy: 0.7467532467532467\n",
            "Precision: 0.7575757575757576\n",
            "   Recall: 0.8333333333333334\n",
            " F1 Score: 0.7936507936507938\n"
          ]
        }
      ]
    },
    {
      "cell_type": "markdown",
      "metadata": {
        "id": "BEXMPg8UjdOI"
      },
      "source": [
        "**Task B (15p)**\n",
        "\n",
        "Evaluate the classifier using the **metrics** package from the *Scikit-learn* library. Again, **accuracy**, **precision**, **recall** and **F1 score** are required.\n",
        "\n",
        "---\n",
        "> #### 🚨🚨🚨 **HINT:** There are 2 *Scikit-learn* functions that will help you with this computation: **accuracy_score** and **precision_recall_fscore_support**. Because we are computing these metrics on a binary classifier, think about what is the suitable value for the **average** parameter of the **precision_recall_fscore_support** function.\n",
        "---"
      ]
    },
    {
      "cell_type": "code",
      "metadata": {
        "colab": {
          "base_uri": "https://localhost:8080/"
        },
        "id": "CxfOFZFWjfEl",
        "outputId": "53440fa6-dc1b-4a79-c8b8-b8197d656f12"
      },
      "source": [
        "# TODO - TASK B\n",
        "\n",
        "from sklearn.metrics import accuracy_score, precision_recall_fscore_support\n",
        "\n",
        "task_b_accuracy = accuracy_score(classification_y_test, classification_y_pred)\n",
        "task_b_precision, task_b_recall, task_b_f1, _ = precision_recall_fscore_support(\n",
        "    classification_y_test, classification_y_pred, average='binary'\n",
        ")\n",
        "\n",
        "print_classifier_results(task_b_accuracy, task_b_precision, task_b_recall, task_b_f1, 'smart')"
      ],
      "execution_count": 16,
      "outputs": [
        {
          "output_type": "stream",
          "name": "stdout",
          "text": [
            "\n",
            "~~~~~~~~~~~~~~~~ CLASSIFICATION RESULTS (SMART) ~~~~~~~~~~~~~~~~\n",
            " Accuracy: 0.7467532467532467\n",
            "Precision: 0.625\n",
            "   Recall: 0.7272727272727273\n",
            " F1 Score: 0.6722689075630253\n"
          ]
        }
      ]
    },
    {
      "cell_type": "markdown",
      "metadata": {
        "id": "du9LS4X1b_H-"
      },
      "source": [
        "**Exercise 2: Linear Regression (40p)**\n",
        "\n",
        "In this exercise, you will learn how to properly evaluate a **regression model**. We chose a **simple linear regressor** for this example, but feel free to explore other alternatives. You can find out more about linear regressors [here](https://www.kdnuggets.com/2019/03/beginners-guide-linear-regression-python-scikit-learn.html). For all the associated tasks, you will use the [weather.csv](https://github.com/vladastefanescu/machine-learning-introduction/blob/main/weather.csv) dataset. The model must learn to determine what is the **maximum temperature** for a certain day (**y**) based on the **minimum temperature** (**X**).\n"
      ]
    },
    {
      "cell_type": "code",
      "metadata": {
        "id": "3GDNE91bZXlO",
        "colab": {
          "base_uri": "https://localhost:8080/"
        },
        "outputId": "1ef56576-8224-4d5f-fc70-558571863bf5"
      },
      "source": [
        "# Load the dataset from the local session folder\n",
        "regression_dataset = pd.read_csv(\"https://raw.githubusercontent.com/vladastefanescu/machine-learning-introduction/main/weather.csv\", dtype=np.float64)\n",
        "\n",
        "# Take a look at the first entries of the dataset\n",
        "print_df(regression_dataset.head())"
      ],
      "execution_count": 17,
      "outputs": [
        {
          "output_type": "stream",
          "name": "stdout",
          "text": [
            "     MinTemp    MaxTemp\n",
            "0  22.222222  25.555556\n",
            "1  21.666667  28.888889\n",
            "2  22.222222  26.111111\n",
            "3  22.222222  26.666667\n",
            "4  21.666667  26.666667\n"
          ]
        }
      ]
    },
    {
      "cell_type": "code",
      "metadata": {
        "id": "lDCUAdnEawwg"
      },
      "source": [
        "# Extract the features from the dataset\n",
        "regression_X = regression_dataset.iloc[:, :-1]\n",
        "\n",
        "# Extract the labels from the dataset\n",
        "regression_y = regression_dataset.iloc[:, -1:]"
      ],
      "execution_count": 18,
      "outputs": []
    },
    {
      "cell_type": "code",
      "metadata": {
        "id": "nBhA_77fbDqT"
      },
      "source": [
        "# Split the data into a training set and a test set with a 80-20 ratio\n",
        "regression_X_train, regression_X_test, regression_y_train, regression_y_test = train_test_split(regression_X, regression_y, test_size=0.2, random_state=42)"
      ],
      "execution_count": 19,
      "outputs": []
    },
    {
      "cell_type": "code",
      "metadata": {
        "id": "bhKiXZGbbd-_"
      },
      "source": [
        "# Build a linear regressor\n",
        "regressor = LinearRegression()\n",
        "\n",
        "# Fit data from the training set to the regressor\n",
        "regressor.fit(regression_X_train, regression_y_train)\n",
        "\n",
        "# Make predictions on the test set\n",
        "regression_y_pred = regressor.predict(regression_X_test)"
      ],
      "execution_count": 20,
      "outputs": []
    },
    {
      "cell_type": "markdown",
      "metadata": {
        "id": "-lRDsGheeB_K"
      },
      "source": [
        "**Task A (15p)**\n",
        "\n",
        "Evaluate the regressor by **manually** computing the **Root Mean Squared Error (RMSE)**, **Mean Absolute Error (MAE)** and **R² score**.\n",
        "\n",
        "For instance, for the **RMSE** we simply apply the formula above:\n",
        "\n",
        "```\n",
        "rmse = list(np.sqrt(np.sum((y_test - y_pred) ** 2) / len(y_test)))[0]\n",
        "```\n",
        "\n",
        "---\n",
        "> #### 🚨🚨🚨 You should be able to compute **MAE** and **R² score** on your own!\n",
        "---\n"
      ]
    },
    {
      "cell_type": "code",
      "metadata": {
        "id": "gS__DyPheD0k"
      },
      "source": [
        "# Computes the RMSE of the model\n",
        "def compute_rmse(y_test, y_pred):\n",
        "    # TODO - TASK A\n",
        "    diff = y_test - y_pred\n",
        "    return float(np.sqrt(np.sum(diff ** 2, axis=0) / len(y_test)))"
      ],
      "execution_count": 27,
      "outputs": []
    },
    {
      "cell_type": "markdown",
      "metadata": {
        "id": "2n8WJ8Uz3A_z"
      },
      "source": [
        "---\n",
        "> #### 🚨🚨🚨 We know that **MAE** was not covered in the first section of this laboratory class and that is why you must use your powerful [Google](https://www.google.com/search?q=mean+absolute+error&oq=mean+absolute+error) skills to solve this one. 😊\n",
        "---"
      ]
    },
    {
      "cell_type": "code",
      "metadata": {
        "id": "NlXKzdNheK9D"
      },
      "source": [
        "# Computes the MAE of the model\n",
        "def compute_mae(y_test, y_pred):\n",
        "    # TODO - TASK A\n",
        "    diff = np.abs(y_test - y_pred)\n",
        "    return float(np.sum(diff, axis=0) / len(y_test))"
      ],
      "execution_count": 28,
      "outputs": []
    },
    {
      "cell_type": "code",
      "metadata": {
        "id": "hgBe8auWeRBh"
      },
      "source": [
        "# Computes the R-squared score of the model\n",
        "def compute_r2_score(y_test, y_pred):\n",
        "    # TODO - TASK A\n",
        "    y_test_mean = np.mean(y_test)\n",
        "    ss_total = np.sum((y_test - y_test_mean) ** 2)\n",
        "    ss_residual = np.sum((y_test - y_pred) ** 2)\n",
        "    r2 = 1 - (ss_residual / ss_total)\n",
        "    return list(r2)[0]"
      ],
      "execution_count": 29,
      "outputs": []
    },
    {
      "cell_type": "code",
      "metadata": {
        "colab": {
          "base_uri": "https://localhost:8080/"
        },
        "id": "OYe8vromehIT",
        "outputId": "414afd9e-b49e-4112-87b0-6a75e1f1e88b"
      },
      "source": [
        "task_a_rmse = compute_rmse(regression_y_test, regression_y_pred)\n",
        "task_a_mae = compute_mae(regression_y_test, regression_y_pred)\n",
        "task_a_r_squared = compute_r2_score(regression_y_test, regression_y_pred)\n",
        "\n",
        "print_regressor_results(task_a_rmse, task_a_mae, task_a_r_squared, 'dumb')"
      ],
      "execution_count": 30,
      "outputs": [
        {
          "output_type": "stream",
          "name": "stdout",
          "text": [
            "\n",
            "~~~~~~~~~~~~~~~~ REGRESSION RESULTS (DUMB) ~~~~~~~~~~~~~~~~\n",
            "Root Mean Squared Error (RMSE): 4.137065480286405\n",
            "     Mean Absolute Error (MAE): 3.177483117041783\n",
            "               R-squared Score: 0.7721546572105611\n"
          ]
        },
        {
          "output_type": "stream",
          "name": "stderr",
          "text": [
            "<ipython-input-27-12f0873ea5b8>:5: FutureWarning: Calling float on a single element Series is deprecated and will raise a TypeError in the future. Use float(ser.iloc[0]) instead\n",
            "  return float(np.sqrt(np.sum(diff ** 2, axis=0) / len(y_test)))\n"
          ]
        }
      ]
    },
    {
      "cell_type": "markdown",
      "metadata": {
        "id": "BoTUTYY_e5DY"
      },
      "source": [
        "**Task B (10p)**\n",
        "\n",
        "Evaluate the regressor using the **metrics** package from the *Scikit-learn* library. Again, **RMSE**, **MAE** and **R² score** are required.\n",
        "\n",
        "---\n",
        "> #### 🚨🚨🚨 **HINT:** You might not find a function that computes the actual **RMSE**, but the **MSE**.\n",
        "---"
      ]
    },
    {
      "cell_type": "code",
      "metadata": {
        "id": "Lxpwzu6De65V"
      },
      "source": [
        "# TODO - TASK B\n",
        "\n",
        "from sklearn.metrics import mean_squared_error, mean_absolute_error, r2_score\n",
        "import numpy as np\n",
        "\n",
        "task_b_rmse = np.sqrt(mean_squared_error(regression_y_test, regression_y_pred))\n",
        "task_b_mae = mean_absolute_error(regression_y_test, regression_y_pred)\n",
        "task_b_r_squared = r2_score(regression_y_test, regression_y_pred)"
      ],
      "execution_count": 35,
      "outputs": []
    },
    {
      "cell_type": "code",
      "metadata": {
        "colab": {
          "base_uri": "https://localhost:8080/"
        },
        "id": "WCGg44NNfc8b",
        "outputId": "58036ae5-b5ec-4e4f-a5d4-012d03044151"
      },
      "source": [
        "print_regressor_results(task_b_rmse, task_b_mae, task_b_r_squared, 'smart')"
      ],
      "execution_count": 36,
      "outputs": [
        {
          "output_type": "stream",
          "name": "stdout",
          "text": [
            "\n",
            "~~~~~~~~~~~~~~~~ REGRESSION RESULTS (SMART) ~~~~~~~~~~~~~~~~\n",
            "Root Mean Squared Error (RMSE): 4.137065480286405\n",
            "     Mean Absolute Error (MAE): 3.177483117041783\n",
            "               R-squared Score: 0.7721546572105611\n"
          ]
        }
      ]
    },
    {
      "cell_type": "markdown",
      "metadata": {
        "id": "E8U4WIS-fngT"
      },
      "source": [
        "**Task C (15p)**\n",
        "\n",
        "Train the model on variously sized chunks of the original dataset and notice how the **RMSE** changes. To better illustrate the behaviour, you should build a **plot** having the **data size** on the **X axis** and the **RMSE value** on the **Y axis**. Moreover, you should be able to **explain** the observed behaviour to the assistant.\n",
        "\n",
        "Because this is rather a plotting task, we will do the hard work for you and compute the list of RMSE values for the various chunk sizes:\n",
        "\n",
        "```\n",
        "n = min(X.shape[0], max_chunk_size)\n",
        "chunk_size = int((n - min_chunk_size) / chunks)\n",
        "\n",
        "# Create 2 lists used in the plotting logic\n",
        "size_list = []\n",
        "rmse_list = []\n",
        "\n",
        "# Train a model for each chunk\n",
        "for i in range(0, chunks):\n",
        "\n",
        "    # Compute the size of the current chunk\n",
        "    size = min_chunk_size + (i + 1) * chunk_size\n",
        "    size_list.append(size)\n",
        "\n",
        "    # Select a chunk from the whole dataset\n",
        "    sample_X = X.sample(n=size, random_state=42)\n",
        "    sample_y = y.sample(n=size, random_state=42)\n",
        "\n",
        "    # Split the data into a training set and a test set with a 80-20 ratio\n",
        "    X_train, X_test, y_train, y_test = train_test_split(sample_X, sample_y, test_size=0.2, random_state=42)\n",
        "\n",
        "    # Build a linear regressor\n",
        "    regressor = LinearRegression()\n",
        "\n",
        "    # Fit data from the training set to the regressor\n",
        "    regressor.fit(X_train, y_train)\n",
        "\n",
        "    # Make predictions on the test set\n",
        "    y_pred = regressor.predict(X_test)\n",
        "\n",
        "    # Compute the rmse\n",
        "    rmse = compute_rmse(y_test, y_pred)\n",
        "    rmse_list.append(rmse)\n",
        "```\n",
        "\n",
        "Please read the code and try to understand it by following the comments. Building the plot is on you! 😊"
      ]
    },
    {
      "cell_type": "code",
      "metadata": {
        "id": "2I4toYvffzP8"
      },
      "source": [
        "# Plots the evolution of the RMSE when the dataset size varies\n",
        "def plot_rmse_evolution(X, y, chunks, min_chunk_size, max_chunk_size):\n",
        "    # TODO - TASC C\n",
        "    # HINT: See the code above\n",
        "    # Build the list of RMSE values\n",
        "\n",
        "    n = min(X.shape[0], max_chunk_size)\n",
        "    chunk_size = int((n - min_chunk_size) / chunks)\n",
        "\n",
        "    size_list = []\n",
        "    rmse_list = []\n",
        "\n",
        "    for i in range(0, chunks):\n",
        "        size = min_chunk_size + (i + 1) * chunk_size\n",
        "        size_list.append(size)\n",
        "\n",
        "        # Sample the data\n",
        "        sample_X = X.sample(n=size, random_state=42)\n",
        "        sample_y = y.sample(n=size, random_state=42)\n",
        "\n",
        "        # Split into train/test\n",
        "        X_train, X_test, y_train, y_test = train_test_split(sample_X, sample_y, test_size=0.2, random_state=42)\n",
        "\n",
        "        # Train and predict\n",
        "        regressor = LinearRegression()\n",
        "        regressor.fit(X_train, y_train)\n",
        "        y_pred = regressor.predict(X_test)\n",
        "\n",
        "        # Compute RMSE\n",
        "        rmse = compute_rmse(y_test.values, y_pred)\n",
        "        rmse_list.append(rmse)\n",
        "\n",
        "    # TODO - TASK C\n",
        "    # Plot the RMSE evolution\n",
        "\n",
        "    plt.figure(figsize=(10, 5))\n",
        "    plt.plot(size_list, rmse_list, marker='o')\n",
        "    plt.title('RMSE vs. Training Set Size')\n",
        "    plt.xlabel('Training Set Size')\n",
        "    plt.ylabel('RMSE')\n",
        "    plt.grid(True)\n",
        "    plt.show()\n",
        "\n",
        "    pass"
      ],
      "execution_count": 39,
      "outputs": []
    },
    {
      "cell_type": "markdown",
      "metadata": {
        "id": "JPl0A44T4Xtl"
      },
      "source": [
        "Play with the following parameters and observe how the plot changes. Make **at least 5** changes to the chunk-related parameters. That means that **5 plots should be generated**."
      ]
    },
    {
      "cell_type": "code",
      "metadata": {
        "id": "kdph29_9gLzQ",
        "colab": {
          "base_uri": "https://localhost:8080/",
          "height": 1000
        },
        "outputId": "c6da2643-3b05-4326-dbd2-3c9f43c56f68"
      },
      "source": [
        "# TODO - TASK C\n",
        "CHUNKS = 100\n",
        "MIN_CHUNK_SIZE = 1000\n",
        "MAX_CHUNK_SIZE = 1000000\n",
        "\n",
        "plot_rmse_evolution(regression_X, regression_y, CHUNKS, MIN_CHUNK_SIZE, MAX_CHUNK_SIZE)"
      ],
      "execution_count": 40,
      "outputs": [
        {
          "output_type": "stream",
          "name": "stderr",
          "text": [
            "<ipython-input-27-12f0873ea5b8>:5: DeprecationWarning: Conversion of an array with ndim > 0 to a scalar is deprecated, and will error in future. Ensure you extract a single element from your array before performing this operation. (Deprecated NumPy 1.25.)\n",
            "  return float(np.sqrt(np.sum(diff ** 2, axis=0) / len(y_test)))\n",
            "<ipython-input-27-12f0873ea5b8>:5: DeprecationWarning: Conversion of an array with ndim > 0 to a scalar is deprecated, and will error in future. Ensure you extract a single element from your array before performing this operation. (Deprecated NumPy 1.25.)\n",
            "  return float(np.sqrt(np.sum(diff ** 2, axis=0) / len(y_test)))\n",
            "<ipython-input-27-12f0873ea5b8>:5: DeprecationWarning: Conversion of an array with ndim > 0 to a scalar is deprecated, and will error in future. Ensure you extract a single element from your array before performing this operation. (Deprecated NumPy 1.25.)\n",
            "  return float(np.sqrt(np.sum(diff ** 2, axis=0) / len(y_test)))\n",
            "<ipython-input-27-12f0873ea5b8>:5: DeprecationWarning: Conversion of an array with ndim > 0 to a scalar is deprecated, and will error in future. Ensure you extract a single element from your array before performing this operation. (Deprecated NumPy 1.25.)\n",
            "  return float(np.sqrt(np.sum(diff ** 2, axis=0) / len(y_test)))\n",
            "<ipython-input-27-12f0873ea5b8>:5: DeprecationWarning: Conversion of an array with ndim > 0 to a scalar is deprecated, and will error in future. Ensure you extract a single element from your array before performing this operation. (Deprecated NumPy 1.25.)\n",
            "  return float(np.sqrt(np.sum(diff ** 2, axis=0) / len(y_test)))\n",
            "<ipython-input-27-12f0873ea5b8>:5: DeprecationWarning: Conversion of an array with ndim > 0 to a scalar is deprecated, and will error in future. Ensure you extract a single element from your array before performing this operation. (Deprecated NumPy 1.25.)\n",
            "  return float(np.sqrt(np.sum(diff ** 2, axis=0) / len(y_test)))\n",
            "<ipython-input-27-12f0873ea5b8>:5: DeprecationWarning: Conversion of an array with ndim > 0 to a scalar is deprecated, and will error in future. Ensure you extract a single element from your array before performing this operation. (Deprecated NumPy 1.25.)\n",
            "  return float(np.sqrt(np.sum(diff ** 2, axis=0) / len(y_test)))\n",
            "<ipython-input-27-12f0873ea5b8>:5: DeprecationWarning: Conversion of an array with ndim > 0 to a scalar is deprecated, and will error in future. Ensure you extract a single element from your array before performing this operation. (Deprecated NumPy 1.25.)\n",
            "  return float(np.sqrt(np.sum(diff ** 2, axis=0) / len(y_test)))\n",
            "<ipython-input-27-12f0873ea5b8>:5: DeprecationWarning: Conversion of an array with ndim > 0 to a scalar is deprecated, and will error in future. Ensure you extract a single element from your array before performing this operation. (Deprecated NumPy 1.25.)\n",
            "  return float(np.sqrt(np.sum(diff ** 2, axis=0) / len(y_test)))\n",
            "<ipython-input-27-12f0873ea5b8>:5: DeprecationWarning: Conversion of an array with ndim > 0 to a scalar is deprecated, and will error in future. Ensure you extract a single element from your array before performing this operation. (Deprecated NumPy 1.25.)\n",
            "  return float(np.sqrt(np.sum(diff ** 2, axis=0) / len(y_test)))\n",
            "<ipython-input-27-12f0873ea5b8>:5: DeprecationWarning: Conversion of an array with ndim > 0 to a scalar is deprecated, and will error in future. Ensure you extract a single element from your array before performing this operation. (Deprecated NumPy 1.25.)\n",
            "  return float(np.sqrt(np.sum(diff ** 2, axis=0) / len(y_test)))\n",
            "<ipython-input-27-12f0873ea5b8>:5: DeprecationWarning: Conversion of an array with ndim > 0 to a scalar is deprecated, and will error in future. Ensure you extract a single element from your array before performing this operation. (Deprecated NumPy 1.25.)\n",
            "  return float(np.sqrt(np.sum(diff ** 2, axis=0) / len(y_test)))\n",
            "<ipython-input-27-12f0873ea5b8>:5: DeprecationWarning: Conversion of an array with ndim > 0 to a scalar is deprecated, and will error in future. Ensure you extract a single element from your array before performing this operation. (Deprecated NumPy 1.25.)\n",
            "  return float(np.sqrt(np.sum(diff ** 2, axis=0) / len(y_test)))\n",
            "<ipython-input-27-12f0873ea5b8>:5: DeprecationWarning: Conversion of an array with ndim > 0 to a scalar is deprecated, and will error in future. Ensure you extract a single element from your array before performing this operation. (Deprecated NumPy 1.25.)\n",
            "  return float(np.sqrt(np.sum(diff ** 2, axis=0) / len(y_test)))\n",
            "<ipython-input-27-12f0873ea5b8>:5: DeprecationWarning: Conversion of an array with ndim > 0 to a scalar is deprecated, and will error in future. Ensure you extract a single element from your array before performing this operation. (Deprecated NumPy 1.25.)\n",
            "  return float(np.sqrt(np.sum(diff ** 2, axis=0) / len(y_test)))\n",
            "<ipython-input-27-12f0873ea5b8>:5: DeprecationWarning: Conversion of an array with ndim > 0 to a scalar is deprecated, and will error in future. Ensure you extract a single element from your array before performing this operation. (Deprecated NumPy 1.25.)\n",
            "  return float(np.sqrt(np.sum(diff ** 2, axis=0) / len(y_test)))\n",
            "<ipython-input-27-12f0873ea5b8>:5: DeprecationWarning: Conversion of an array with ndim > 0 to a scalar is deprecated, and will error in future. Ensure you extract a single element from your array before performing this operation. (Deprecated NumPy 1.25.)\n",
            "  return float(np.sqrt(np.sum(diff ** 2, axis=0) / len(y_test)))\n",
            "<ipython-input-27-12f0873ea5b8>:5: DeprecationWarning: Conversion of an array with ndim > 0 to a scalar is deprecated, and will error in future. Ensure you extract a single element from your array before performing this operation. (Deprecated NumPy 1.25.)\n",
            "  return float(np.sqrt(np.sum(diff ** 2, axis=0) / len(y_test)))\n",
            "<ipython-input-27-12f0873ea5b8>:5: DeprecationWarning: Conversion of an array with ndim > 0 to a scalar is deprecated, and will error in future. Ensure you extract a single element from your array before performing this operation. (Deprecated NumPy 1.25.)\n",
            "  return float(np.sqrt(np.sum(diff ** 2, axis=0) / len(y_test)))\n",
            "<ipython-input-27-12f0873ea5b8>:5: DeprecationWarning: Conversion of an array with ndim > 0 to a scalar is deprecated, and will error in future. Ensure you extract a single element from your array before performing this operation. (Deprecated NumPy 1.25.)\n",
            "  return float(np.sqrt(np.sum(diff ** 2, axis=0) / len(y_test)))\n",
            "<ipython-input-27-12f0873ea5b8>:5: DeprecationWarning: Conversion of an array with ndim > 0 to a scalar is deprecated, and will error in future. Ensure you extract a single element from your array before performing this operation. (Deprecated NumPy 1.25.)\n",
            "  return float(np.sqrt(np.sum(diff ** 2, axis=0) / len(y_test)))\n",
            "<ipython-input-27-12f0873ea5b8>:5: DeprecationWarning: Conversion of an array with ndim > 0 to a scalar is deprecated, and will error in future. Ensure you extract a single element from your array before performing this operation. (Deprecated NumPy 1.25.)\n",
            "  return float(np.sqrt(np.sum(diff ** 2, axis=0) / len(y_test)))\n",
            "<ipython-input-27-12f0873ea5b8>:5: DeprecationWarning: Conversion of an array with ndim > 0 to a scalar is deprecated, and will error in future. Ensure you extract a single element from your array before performing this operation. (Deprecated NumPy 1.25.)\n",
            "  return float(np.sqrt(np.sum(diff ** 2, axis=0) / len(y_test)))\n",
            "<ipython-input-27-12f0873ea5b8>:5: DeprecationWarning: Conversion of an array with ndim > 0 to a scalar is deprecated, and will error in future. Ensure you extract a single element from your array before performing this operation. (Deprecated NumPy 1.25.)\n",
            "  return float(np.sqrt(np.sum(diff ** 2, axis=0) / len(y_test)))\n",
            "<ipython-input-27-12f0873ea5b8>:5: DeprecationWarning: Conversion of an array with ndim > 0 to a scalar is deprecated, and will error in future. Ensure you extract a single element from your array before performing this operation. (Deprecated NumPy 1.25.)\n",
            "  return float(np.sqrt(np.sum(diff ** 2, axis=0) / len(y_test)))\n",
            "<ipython-input-27-12f0873ea5b8>:5: DeprecationWarning: Conversion of an array with ndim > 0 to a scalar is deprecated, and will error in future. Ensure you extract a single element from your array before performing this operation. (Deprecated NumPy 1.25.)\n",
            "  return float(np.sqrt(np.sum(diff ** 2, axis=0) / len(y_test)))\n",
            "<ipython-input-27-12f0873ea5b8>:5: DeprecationWarning: Conversion of an array with ndim > 0 to a scalar is deprecated, and will error in future. Ensure you extract a single element from your array before performing this operation. (Deprecated NumPy 1.25.)\n",
            "  return float(np.sqrt(np.sum(diff ** 2, axis=0) / len(y_test)))\n",
            "<ipython-input-27-12f0873ea5b8>:5: DeprecationWarning: Conversion of an array with ndim > 0 to a scalar is deprecated, and will error in future. Ensure you extract a single element from your array before performing this operation. (Deprecated NumPy 1.25.)\n",
            "  return float(np.sqrt(np.sum(diff ** 2, axis=0) / len(y_test)))\n",
            "<ipython-input-27-12f0873ea5b8>:5: DeprecationWarning: Conversion of an array with ndim > 0 to a scalar is deprecated, and will error in future. Ensure you extract a single element from your array before performing this operation. (Deprecated NumPy 1.25.)\n",
            "  return float(np.sqrt(np.sum(diff ** 2, axis=0) / len(y_test)))\n",
            "<ipython-input-27-12f0873ea5b8>:5: DeprecationWarning: Conversion of an array with ndim > 0 to a scalar is deprecated, and will error in future. Ensure you extract a single element from your array before performing this operation. (Deprecated NumPy 1.25.)\n",
            "  return float(np.sqrt(np.sum(diff ** 2, axis=0) / len(y_test)))\n",
            "<ipython-input-27-12f0873ea5b8>:5: DeprecationWarning: Conversion of an array with ndim > 0 to a scalar is deprecated, and will error in future. Ensure you extract a single element from your array before performing this operation. (Deprecated NumPy 1.25.)\n",
            "  return float(np.sqrt(np.sum(diff ** 2, axis=0) / len(y_test)))\n",
            "<ipython-input-27-12f0873ea5b8>:5: DeprecationWarning: Conversion of an array with ndim > 0 to a scalar is deprecated, and will error in future. Ensure you extract a single element from your array before performing this operation. (Deprecated NumPy 1.25.)\n",
            "  return float(np.sqrt(np.sum(diff ** 2, axis=0) / len(y_test)))\n",
            "<ipython-input-27-12f0873ea5b8>:5: DeprecationWarning: Conversion of an array with ndim > 0 to a scalar is deprecated, and will error in future. Ensure you extract a single element from your array before performing this operation. (Deprecated NumPy 1.25.)\n",
            "  return float(np.sqrt(np.sum(diff ** 2, axis=0) / len(y_test)))\n",
            "<ipython-input-27-12f0873ea5b8>:5: DeprecationWarning: Conversion of an array with ndim > 0 to a scalar is deprecated, and will error in future. Ensure you extract a single element from your array before performing this operation. (Deprecated NumPy 1.25.)\n",
            "  return float(np.sqrt(np.sum(diff ** 2, axis=0) / len(y_test)))\n",
            "<ipython-input-27-12f0873ea5b8>:5: DeprecationWarning: Conversion of an array with ndim > 0 to a scalar is deprecated, and will error in future. Ensure you extract a single element from your array before performing this operation. (Deprecated NumPy 1.25.)\n",
            "  return float(np.sqrt(np.sum(diff ** 2, axis=0) / len(y_test)))\n",
            "<ipython-input-27-12f0873ea5b8>:5: DeprecationWarning: Conversion of an array with ndim > 0 to a scalar is deprecated, and will error in future. Ensure you extract a single element from your array before performing this operation. (Deprecated NumPy 1.25.)\n",
            "  return float(np.sqrt(np.sum(diff ** 2, axis=0) / len(y_test)))\n",
            "<ipython-input-27-12f0873ea5b8>:5: DeprecationWarning: Conversion of an array with ndim > 0 to a scalar is deprecated, and will error in future. Ensure you extract a single element from your array before performing this operation. (Deprecated NumPy 1.25.)\n",
            "  return float(np.sqrt(np.sum(diff ** 2, axis=0) / len(y_test)))\n",
            "<ipython-input-27-12f0873ea5b8>:5: DeprecationWarning: Conversion of an array with ndim > 0 to a scalar is deprecated, and will error in future. Ensure you extract a single element from your array before performing this operation. (Deprecated NumPy 1.25.)\n",
            "  return float(np.sqrt(np.sum(diff ** 2, axis=0) / len(y_test)))\n",
            "<ipython-input-27-12f0873ea5b8>:5: DeprecationWarning: Conversion of an array with ndim > 0 to a scalar is deprecated, and will error in future. Ensure you extract a single element from your array before performing this operation. (Deprecated NumPy 1.25.)\n",
            "  return float(np.sqrt(np.sum(diff ** 2, axis=0) / len(y_test)))\n",
            "<ipython-input-27-12f0873ea5b8>:5: DeprecationWarning: Conversion of an array with ndim > 0 to a scalar is deprecated, and will error in future. Ensure you extract a single element from your array before performing this operation. (Deprecated NumPy 1.25.)\n",
            "  return float(np.sqrt(np.sum(diff ** 2, axis=0) / len(y_test)))\n",
            "<ipython-input-27-12f0873ea5b8>:5: DeprecationWarning: Conversion of an array with ndim > 0 to a scalar is deprecated, and will error in future. Ensure you extract a single element from your array before performing this operation. (Deprecated NumPy 1.25.)\n",
            "  return float(np.sqrt(np.sum(diff ** 2, axis=0) / len(y_test)))\n",
            "<ipython-input-27-12f0873ea5b8>:5: DeprecationWarning: Conversion of an array with ndim > 0 to a scalar is deprecated, and will error in future. Ensure you extract a single element from your array before performing this operation. (Deprecated NumPy 1.25.)\n",
            "  return float(np.sqrt(np.sum(diff ** 2, axis=0) / len(y_test)))\n",
            "<ipython-input-27-12f0873ea5b8>:5: DeprecationWarning: Conversion of an array with ndim > 0 to a scalar is deprecated, and will error in future. Ensure you extract a single element from your array before performing this operation. (Deprecated NumPy 1.25.)\n",
            "  return float(np.sqrt(np.sum(diff ** 2, axis=0) / len(y_test)))\n",
            "<ipython-input-27-12f0873ea5b8>:5: DeprecationWarning: Conversion of an array with ndim > 0 to a scalar is deprecated, and will error in future. Ensure you extract a single element from your array before performing this operation. (Deprecated NumPy 1.25.)\n",
            "  return float(np.sqrt(np.sum(diff ** 2, axis=0) / len(y_test)))\n",
            "<ipython-input-27-12f0873ea5b8>:5: DeprecationWarning: Conversion of an array with ndim > 0 to a scalar is deprecated, and will error in future. Ensure you extract a single element from your array before performing this operation. (Deprecated NumPy 1.25.)\n",
            "  return float(np.sqrt(np.sum(diff ** 2, axis=0) / len(y_test)))\n",
            "<ipython-input-27-12f0873ea5b8>:5: DeprecationWarning: Conversion of an array with ndim > 0 to a scalar is deprecated, and will error in future. Ensure you extract a single element from your array before performing this operation. (Deprecated NumPy 1.25.)\n",
            "  return float(np.sqrt(np.sum(diff ** 2, axis=0) / len(y_test)))\n",
            "<ipython-input-27-12f0873ea5b8>:5: DeprecationWarning: Conversion of an array with ndim > 0 to a scalar is deprecated, and will error in future. Ensure you extract a single element from your array before performing this operation. (Deprecated NumPy 1.25.)\n",
            "  return float(np.sqrt(np.sum(diff ** 2, axis=0) / len(y_test)))\n",
            "<ipython-input-27-12f0873ea5b8>:5: DeprecationWarning: Conversion of an array with ndim > 0 to a scalar is deprecated, and will error in future. Ensure you extract a single element from your array before performing this operation. (Deprecated NumPy 1.25.)\n",
            "  return float(np.sqrt(np.sum(diff ** 2, axis=0) / len(y_test)))\n",
            "<ipython-input-27-12f0873ea5b8>:5: DeprecationWarning: Conversion of an array with ndim > 0 to a scalar is deprecated, and will error in future. Ensure you extract a single element from your array before performing this operation. (Deprecated NumPy 1.25.)\n",
            "  return float(np.sqrt(np.sum(diff ** 2, axis=0) / len(y_test)))\n",
            "<ipython-input-27-12f0873ea5b8>:5: DeprecationWarning: Conversion of an array with ndim > 0 to a scalar is deprecated, and will error in future. Ensure you extract a single element from your array before performing this operation. (Deprecated NumPy 1.25.)\n",
            "  return float(np.sqrt(np.sum(diff ** 2, axis=0) / len(y_test)))\n",
            "<ipython-input-27-12f0873ea5b8>:5: DeprecationWarning: Conversion of an array with ndim > 0 to a scalar is deprecated, and will error in future. Ensure you extract a single element from your array before performing this operation. (Deprecated NumPy 1.25.)\n",
            "  return float(np.sqrt(np.sum(diff ** 2, axis=0) / len(y_test)))\n",
            "<ipython-input-27-12f0873ea5b8>:5: DeprecationWarning: Conversion of an array with ndim > 0 to a scalar is deprecated, and will error in future. Ensure you extract a single element from your array before performing this operation. (Deprecated NumPy 1.25.)\n",
            "  return float(np.sqrt(np.sum(diff ** 2, axis=0) / len(y_test)))\n",
            "<ipython-input-27-12f0873ea5b8>:5: DeprecationWarning: Conversion of an array with ndim > 0 to a scalar is deprecated, and will error in future. Ensure you extract a single element from your array before performing this operation. (Deprecated NumPy 1.25.)\n",
            "  return float(np.sqrt(np.sum(diff ** 2, axis=0) / len(y_test)))\n",
            "<ipython-input-27-12f0873ea5b8>:5: DeprecationWarning: Conversion of an array with ndim > 0 to a scalar is deprecated, and will error in future. Ensure you extract a single element from your array before performing this operation. (Deprecated NumPy 1.25.)\n",
            "  return float(np.sqrt(np.sum(diff ** 2, axis=0) / len(y_test)))\n",
            "<ipython-input-27-12f0873ea5b8>:5: DeprecationWarning: Conversion of an array with ndim > 0 to a scalar is deprecated, and will error in future. Ensure you extract a single element from your array before performing this operation. (Deprecated NumPy 1.25.)\n",
            "  return float(np.sqrt(np.sum(diff ** 2, axis=0) / len(y_test)))\n",
            "<ipython-input-27-12f0873ea5b8>:5: DeprecationWarning: Conversion of an array with ndim > 0 to a scalar is deprecated, and will error in future. Ensure you extract a single element from your array before performing this operation. (Deprecated NumPy 1.25.)\n",
            "  return float(np.sqrt(np.sum(diff ** 2, axis=0) / len(y_test)))\n",
            "<ipython-input-27-12f0873ea5b8>:5: DeprecationWarning: Conversion of an array with ndim > 0 to a scalar is deprecated, and will error in future. Ensure you extract a single element from your array before performing this operation. (Deprecated NumPy 1.25.)\n",
            "  return float(np.sqrt(np.sum(diff ** 2, axis=0) / len(y_test)))\n",
            "<ipython-input-27-12f0873ea5b8>:5: DeprecationWarning: Conversion of an array with ndim > 0 to a scalar is deprecated, and will error in future. Ensure you extract a single element from your array before performing this operation. (Deprecated NumPy 1.25.)\n",
            "  return float(np.sqrt(np.sum(diff ** 2, axis=0) / len(y_test)))\n",
            "<ipython-input-27-12f0873ea5b8>:5: DeprecationWarning: Conversion of an array with ndim > 0 to a scalar is deprecated, and will error in future. Ensure you extract a single element from your array before performing this operation. (Deprecated NumPy 1.25.)\n",
            "  return float(np.sqrt(np.sum(diff ** 2, axis=0) / len(y_test)))\n",
            "<ipython-input-27-12f0873ea5b8>:5: DeprecationWarning: Conversion of an array with ndim > 0 to a scalar is deprecated, and will error in future. Ensure you extract a single element from your array before performing this operation. (Deprecated NumPy 1.25.)\n",
            "  return float(np.sqrt(np.sum(diff ** 2, axis=0) / len(y_test)))\n",
            "<ipython-input-27-12f0873ea5b8>:5: DeprecationWarning: Conversion of an array with ndim > 0 to a scalar is deprecated, and will error in future. Ensure you extract a single element from your array before performing this operation. (Deprecated NumPy 1.25.)\n",
            "  return float(np.sqrt(np.sum(diff ** 2, axis=0) / len(y_test)))\n",
            "<ipython-input-27-12f0873ea5b8>:5: DeprecationWarning: Conversion of an array with ndim > 0 to a scalar is deprecated, and will error in future. Ensure you extract a single element from your array before performing this operation. (Deprecated NumPy 1.25.)\n",
            "  return float(np.sqrt(np.sum(diff ** 2, axis=0) / len(y_test)))\n",
            "<ipython-input-27-12f0873ea5b8>:5: DeprecationWarning: Conversion of an array with ndim > 0 to a scalar is deprecated, and will error in future. Ensure you extract a single element from your array before performing this operation. (Deprecated NumPy 1.25.)\n",
            "  return float(np.sqrt(np.sum(diff ** 2, axis=0) / len(y_test)))\n",
            "<ipython-input-27-12f0873ea5b8>:5: DeprecationWarning: Conversion of an array with ndim > 0 to a scalar is deprecated, and will error in future. Ensure you extract a single element from your array before performing this operation. (Deprecated NumPy 1.25.)\n",
            "  return float(np.sqrt(np.sum(diff ** 2, axis=0) / len(y_test)))\n",
            "<ipython-input-27-12f0873ea5b8>:5: DeprecationWarning: Conversion of an array with ndim > 0 to a scalar is deprecated, and will error in future. Ensure you extract a single element from your array before performing this operation. (Deprecated NumPy 1.25.)\n",
            "  return float(np.sqrt(np.sum(diff ** 2, axis=0) / len(y_test)))\n",
            "<ipython-input-27-12f0873ea5b8>:5: DeprecationWarning: Conversion of an array with ndim > 0 to a scalar is deprecated, and will error in future. Ensure you extract a single element from your array before performing this operation. (Deprecated NumPy 1.25.)\n",
            "  return float(np.sqrt(np.sum(diff ** 2, axis=0) / len(y_test)))\n",
            "<ipython-input-27-12f0873ea5b8>:5: DeprecationWarning: Conversion of an array with ndim > 0 to a scalar is deprecated, and will error in future. Ensure you extract a single element from your array before performing this operation. (Deprecated NumPy 1.25.)\n",
            "  return float(np.sqrt(np.sum(diff ** 2, axis=0) / len(y_test)))\n",
            "<ipython-input-27-12f0873ea5b8>:5: DeprecationWarning: Conversion of an array with ndim > 0 to a scalar is deprecated, and will error in future. Ensure you extract a single element from your array before performing this operation. (Deprecated NumPy 1.25.)\n",
            "  return float(np.sqrt(np.sum(diff ** 2, axis=0) / len(y_test)))\n",
            "<ipython-input-27-12f0873ea5b8>:5: DeprecationWarning: Conversion of an array with ndim > 0 to a scalar is deprecated, and will error in future. Ensure you extract a single element from your array before performing this operation. (Deprecated NumPy 1.25.)\n",
            "  return float(np.sqrt(np.sum(diff ** 2, axis=0) / len(y_test)))\n",
            "<ipython-input-27-12f0873ea5b8>:5: DeprecationWarning: Conversion of an array with ndim > 0 to a scalar is deprecated, and will error in future. Ensure you extract a single element from your array before performing this operation. (Deprecated NumPy 1.25.)\n",
            "  return float(np.sqrt(np.sum(diff ** 2, axis=0) / len(y_test)))\n",
            "<ipython-input-27-12f0873ea5b8>:5: DeprecationWarning: Conversion of an array with ndim > 0 to a scalar is deprecated, and will error in future. Ensure you extract a single element from your array before performing this operation. (Deprecated NumPy 1.25.)\n",
            "  return float(np.sqrt(np.sum(diff ** 2, axis=0) / len(y_test)))\n",
            "<ipython-input-27-12f0873ea5b8>:5: DeprecationWarning: Conversion of an array with ndim > 0 to a scalar is deprecated, and will error in future. Ensure you extract a single element from your array before performing this operation. (Deprecated NumPy 1.25.)\n",
            "  return float(np.sqrt(np.sum(diff ** 2, axis=0) / len(y_test)))\n",
            "<ipython-input-27-12f0873ea5b8>:5: DeprecationWarning: Conversion of an array with ndim > 0 to a scalar is deprecated, and will error in future. Ensure you extract a single element from your array before performing this operation. (Deprecated NumPy 1.25.)\n",
            "  return float(np.sqrt(np.sum(diff ** 2, axis=0) / len(y_test)))\n",
            "<ipython-input-27-12f0873ea5b8>:5: DeprecationWarning: Conversion of an array with ndim > 0 to a scalar is deprecated, and will error in future. Ensure you extract a single element from your array before performing this operation. (Deprecated NumPy 1.25.)\n",
            "  return float(np.sqrt(np.sum(diff ** 2, axis=0) / len(y_test)))\n",
            "<ipython-input-27-12f0873ea5b8>:5: DeprecationWarning: Conversion of an array with ndim > 0 to a scalar is deprecated, and will error in future. Ensure you extract a single element from your array before performing this operation. (Deprecated NumPy 1.25.)\n",
            "  return float(np.sqrt(np.sum(diff ** 2, axis=0) / len(y_test)))\n",
            "<ipython-input-27-12f0873ea5b8>:5: DeprecationWarning: Conversion of an array with ndim > 0 to a scalar is deprecated, and will error in future. Ensure you extract a single element from your array before performing this operation. (Deprecated NumPy 1.25.)\n",
            "  return float(np.sqrt(np.sum(diff ** 2, axis=0) / len(y_test)))\n",
            "<ipython-input-27-12f0873ea5b8>:5: DeprecationWarning: Conversion of an array with ndim > 0 to a scalar is deprecated, and will error in future. Ensure you extract a single element from your array before performing this operation. (Deprecated NumPy 1.25.)\n",
            "  return float(np.sqrt(np.sum(diff ** 2, axis=0) / len(y_test)))\n",
            "<ipython-input-27-12f0873ea5b8>:5: DeprecationWarning: Conversion of an array with ndim > 0 to a scalar is deprecated, and will error in future. Ensure you extract a single element from your array before performing this operation. (Deprecated NumPy 1.25.)\n",
            "  return float(np.sqrt(np.sum(diff ** 2, axis=0) / len(y_test)))\n",
            "<ipython-input-27-12f0873ea5b8>:5: DeprecationWarning: Conversion of an array with ndim > 0 to a scalar is deprecated, and will error in future. Ensure you extract a single element from your array before performing this operation. (Deprecated NumPy 1.25.)\n",
            "  return float(np.sqrt(np.sum(diff ** 2, axis=0) / len(y_test)))\n",
            "<ipython-input-27-12f0873ea5b8>:5: DeprecationWarning: Conversion of an array with ndim > 0 to a scalar is deprecated, and will error in future. Ensure you extract a single element from your array before performing this operation. (Deprecated NumPy 1.25.)\n",
            "  return float(np.sqrt(np.sum(diff ** 2, axis=0) / len(y_test)))\n",
            "<ipython-input-27-12f0873ea5b8>:5: DeprecationWarning: Conversion of an array with ndim > 0 to a scalar is deprecated, and will error in future. Ensure you extract a single element from your array before performing this operation. (Deprecated NumPy 1.25.)\n",
            "  return float(np.sqrt(np.sum(diff ** 2, axis=0) / len(y_test)))\n",
            "<ipython-input-27-12f0873ea5b8>:5: DeprecationWarning: Conversion of an array with ndim > 0 to a scalar is deprecated, and will error in future. Ensure you extract a single element from your array before performing this operation. (Deprecated NumPy 1.25.)\n",
            "  return float(np.sqrt(np.sum(diff ** 2, axis=0) / len(y_test)))\n",
            "<ipython-input-27-12f0873ea5b8>:5: DeprecationWarning: Conversion of an array with ndim > 0 to a scalar is deprecated, and will error in future. Ensure you extract a single element from your array before performing this operation. (Deprecated NumPy 1.25.)\n",
            "  return float(np.sqrt(np.sum(diff ** 2, axis=0) / len(y_test)))\n",
            "<ipython-input-27-12f0873ea5b8>:5: DeprecationWarning: Conversion of an array with ndim > 0 to a scalar is deprecated, and will error in future. Ensure you extract a single element from your array before performing this operation. (Deprecated NumPy 1.25.)\n",
            "  return float(np.sqrt(np.sum(diff ** 2, axis=0) / len(y_test)))\n",
            "<ipython-input-27-12f0873ea5b8>:5: DeprecationWarning: Conversion of an array with ndim > 0 to a scalar is deprecated, and will error in future. Ensure you extract a single element from your array before performing this operation. (Deprecated NumPy 1.25.)\n",
            "  return float(np.sqrt(np.sum(diff ** 2, axis=0) / len(y_test)))\n",
            "<ipython-input-27-12f0873ea5b8>:5: DeprecationWarning: Conversion of an array with ndim > 0 to a scalar is deprecated, and will error in future. Ensure you extract a single element from your array before performing this operation. (Deprecated NumPy 1.25.)\n",
            "  return float(np.sqrt(np.sum(diff ** 2, axis=0) / len(y_test)))\n",
            "<ipython-input-27-12f0873ea5b8>:5: DeprecationWarning: Conversion of an array with ndim > 0 to a scalar is deprecated, and will error in future. Ensure you extract a single element from your array before performing this operation. (Deprecated NumPy 1.25.)\n",
            "  return float(np.sqrt(np.sum(diff ** 2, axis=0) / len(y_test)))\n",
            "<ipython-input-27-12f0873ea5b8>:5: DeprecationWarning: Conversion of an array with ndim > 0 to a scalar is deprecated, and will error in future. Ensure you extract a single element from your array before performing this operation. (Deprecated NumPy 1.25.)\n",
            "  return float(np.sqrt(np.sum(diff ** 2, axis=0) / len(y_test)))\n",
            "<ipython-input-27-12f0873ea5b8>:5: DeprecationWarning: Conversion of an array with ndim > 0 to a scalar is deprecated, and will error in future. Ensure you extract a single element from your array before performing this operation. (Deprecated NumPy 1.25.)\n",
            "  return float(np.sqrt(np.sum(diff ** 2, axis=0) / len(y_test)))\n",
            "<ipython-input-27-12f0873ea5b8>:5: DeprecationWarning: Conversion of an array with ndim > 0 to a scalar is deprecated, and will error in future. Ensure you extract a single element from your array before performing this operation. (Deprecated NumPy 1.25.)\n",
            "  return float(np.sqrt(np.sum(diff ** 2, axis=0) / len(y_test)))\n",
            "<ipython-input-27-12f0873ea5b8>:5: DeprecationWarning: Conversion of an array with ndim > 0 to a scalar is deprecated, and will error in future. Ensure you extract a single element from your array before performing this operation. (Deprecated NumPy 1.25.)\n",
            "  return float(np.sqrt(np.sum(diff ** 2, axis=0) / len(y_test)))\n",
            "<ipython-input-27-12f0873ea5b8>:5: DeprecationWarning: Conversion of an array with ndim > 0 to a scalar is deprecated, and will error in future. Ensure you extract a single element from your array before performing this operation. (Deprecated NumPy 1.25.)\n",
            "  return float(np.sqrt(np.sum(diff ** 2, axis=0) / len(y_test)))\n",
            "<ipython-input-27-12f0873ea5b8>:5: DeprecationWarning: Conversion of an array with ndim > 0 to a scalar is deprecated, and will error in future. Ensure you extract a single element from your array before performing this operation. (Deprecated NumPy 1.25.)\n",
            "  return float(np.sqrt(np.sum(diff ** 2, axis=0) / len(y_test)))\n",
            "<ipython-input-27-12f0873ea5b8>:5: DeprecationWarning: Conversion of an array with ndim > 0 to a scalar is deprecated, and will error in future. Ensure you extract a single element from your array before performing this operation. (Deprecated NumPy 1.25.)\n",
            "  return float(np.sqrt(np.sum(diff ** 2, axis=0) / len(y_test)))\n",
            "<ipython-input-27-12f0873ea5b8>:5: DeprecationWarning: Conversion of an array with ndim > 0 to a scalar is deprecated, and will error in future. Ensure you extract a single element from your array before performing this operation. (Deprecated NumPy 1.25.)\n",
            "  return float(np.sqrt(np.sum(diff ** 2, axis=0) / len(y_test)))\n",
            "<ipython-input-27-12f0873ea5b8>:5: DeprecationWarning: Conversion of an array with ndim > 0 to a scalar is deprecated, and will error in future. Ensure you extract a single element from your array before performing this operation. (Deprecated NumPy 1.25.)\n",
            "  return float(np.sqrt(np.sum(diff ** 2, axis=0) / len(y_test)))\n",
            "<ipython-input-27-12f0873ea5b8>:5: DeprecationWarning: Conversion of an array with ndim > 0 to a scalar is deprecated, and will error in future. Ensure you extract a single element from your array before performing this operation. (Deprecated NumPy 1.25.)\n",
            "  return float(np.sqrt(np.sum(diff ** 2, axis=0) / len(y_test)))\n",
            "<ipython-input-27-12f0873ea5b8>:5: DeprecationWarning: Conversion of an array with ndim > 0 to a scalar is deprecated, and will error in future. Ensure you extract a single element from your array before performing this operation. (Deprecated NumPy 1.25.)\n",
            "  return float(np.sqrt(np.sum(diff ** 2, axis=0) / len(y_test)))\n",
            "<ipython-input-27-12f0873ea5b8>:5: DeprecationWarning: Conversion of an array with ndim > 0 to a scalar is deprecated, and will error in future. Ensure you extract a single element from your array before performing this operation. (Deprecated NumPy 1.25.)\n",
            "  return float(np.sqrt(np.sum(diff ** 2, axis=0) / len(y_test)))\n",
            "<ipython-input-27-12f0873ea5b8>:5: DeprecationWarning: Conversion of an array with ndim > 0 to a scalar is deprecated, and will error in future. Ensure you extract a single element from your array before performing this operation. (Deprecated NumPy 1.25.)\n",
            "  return float(np.sqrt(np.sum(diff ** 2, axis=0) / len(y_test)))\n"
          ]
        },
        {
          "output_type": "display_data",
          "data": {
            "text/plain": [
              "<Figure size 1000x500 with 1 Axes>"
            ],
            "image/png": "[encoded data removed]"
          },
          "metadata": {}
        }
      ]
    },
    {
      "cell_type": "markdown",
      "metadata": {
        "id": "ywIb1viTl0jl"
      },
      "source": [
        "**Exercise 3: Fitting Behaviour (15p)**\n",
        "\n",
        "In this exercise, you will learn how to properly evaluate the **data fitting behaviour** of the **binary classifier** from **exercise 1**. For all the associated tasks, you will use the [diabetes.csv](https://github.com/vladastefanescu/machine-learning-introduction/blob/main/diabetes.csv) dataset again. This time, **3 models** will be trained with different parameters and your job is to analyse their behaviour. For that, you will look at the **accuracy** of each model computed on both the **training set** and the **test set**."
      ]
    },
    {
      "cell_type": "code",
      "metadata": {
        "colab": {
          "base_uri": "https://localhost:8080/"
        },
        "id": "2rg4xLH0l3h9",
        "outputId": "cff5101a-c73e-4306-9230-ae25ff383053"
      },
      "source": [
        "# Load the dataset from the local session folder\n",
        "fitting_dataset = pd.read_csv(\"https://raw.githubusercontent.com/vladastefanescu/machine-learning-introduction/main/diabetes.csv\")\n",
        "\n",
        "# Take a look at the first entries of the dataset\n",
        "print_df(fitting_dataset.head())"
      ],
      "execution_count": 41,
      "outputs": [
        {
          "output_type": "stream",
          "name": "stdout",
          "text": [
            "   Pregnancies  Glucose  BloodPressure  SkinThickness  Insulin   BMI  \\\n",
            "0            6      148             72             35        0  33.6   \n",
            "1            1       85             66             29        0  26.6   \n",
            "2            8      183             64              0        0  23.3   \n",
            "3            1       89             66             23       94  28.1   \n",
            "4            0      137             40             35      168  43.1   \n",
            "\n",
            "   DiabetesPedigreeFunction  Age  Outcome  \n",
            "0                     0.627   50        1  \n",
            "1                     0.351   31        0  \n",
            "2                     0.672   32        1  \n",
            "3                     0.167   21        0  \n",
            "4                     2.288   33        1  \n"
          ]
        }
      ]
    },
    {
      "cell_type": "code",
      "metadata": {
        "id": "exi9ikYnmIV9"
      },
      "source": [
        "# Extract the features from the dataset\n",
        "fitting_X = fitting_dataset.iloc[:, :-1]\n",
        "\n",
        "# Extract the labels from the dataset\n",
        "fitting_y = fitting_dataset.iloc[:, -1:]"
      ],
      "execution_count": 42,
      "outputs": []
    },
    {
      "cell_type": "code",
      "metadata": {
        "id": "l9nlVoJjmYUP"
      },
      "source": [
        "# Split the data into a training set and a test set with a 80-20 ratio\n",
        "fitting_X_train, fitting_X_test, fitting_y_train, fitting_y_test = train_test_split(fitting_X, fitting_y, test_size=0.2, random_state=42)"
      ],
      "execution_count": 43,
      "outputs": []
    },
    {
      "cell_type": "code",
      "metadata": {
        "id": "wm_vksG6mnzd"
      },
      "source": [
        "# Build 3 different trained models\n",
        "classifiers = [DecisionTreeClassifier(max_depth=1, random_state=42).fit(fitting_X_train, fitting_y_train),\n",
        "               DecisionTreeClassifier(max_depth=5, random_state=42).fit(fitting_X_train, fitting_y_train),\n",
        "               DecisionTreeClassifier(max_depth=32, random_state=42).fit(fitting_X_train, fitting_y_train)]"
      ],
      "execution_count": 44,
      "outputs": []
    },
    {
      "cell_type": "markdown",
      "metadata": {
        "id": "zt2i2F5QnLK_"
      },
      "source": [
        "**Task A (10p)**\n",
        "\n",
        "For each model, make predictions on both the **training set** and **test set** and compute the corresponding **accuracy values**."
      ]
    },
    {
      "cell_type": "code",
      "metadata": {
        "id": "DjS8fh1mnPYA"
      },
      "source": [
        "# Makes prediction on both the training set and test set\n",
        "# HINT 1: You can reuse some code from the previous exercises\n",
        "# HINT 2: The models are already trained\n",
        "def make_predictions(clf, X_train, X_test, y_train, y_test):\n",
        "    # TODO - TASK A\n",
        "    y_train_pred = clf.predict(X_train)\n",
        "    y_test_pred = clf.predict(X_test)\n",
        "\n",
        "    train_accuracy = accuracy_score(y_train, y_train_pred)\n",
        "    test_accuracy = accuracy_score(y_test, y_test_pred)\n",
        "\n",
        "    return train_accuracy, test_accuracy"
      ],
      "execution_count": 46,
      "outputs": []
    },
    {
      "cell_type": "code",
      "metadata": {
        "colab": {
          "base_uri": "https://localhost:8080/"
        },
        "id": "6Dh0prrgm-Nq",
        "outputId": "46f97e3a-702a-4005-c384-a41371bc0efe"
      },
      "source": [
        "# Make predictions on the training and test sets and evaluate the performance of each model\n",
        "accuracy_list = []\n",
        "for clf in classifiers:\n",
        "    accuracy_list.append(make_predictions(clf, fitting_X_train, fitting_X_test, fitting_y_train, fitting_y_test))\n",
        "\n",
        "# Print the performance evaluation results\n",
        "print_fitting_results(accuracy_list)"
      ],
      "execution_count": 47,
      "outputs": [
        {
          "output_type": "stream",
          "name": "stdout",
          "text": [
            "\n",
            "~~~~~~~~~~~~~~~~ CLASSIFICATION RESULTS ~~~~~~~~~~~~~~~~\n",
            "Training Set Accuracy 1: 0.7345276872964169\n",
            "    Test Set Accuracy 1: 0.7402597402597403\n",
            "\n",
            "Training Set Accuracy 1: 0.8420195439739414\n",
            "    Test Set Accuracy 1: 0.7922077922077922\n",
            "\n",
            "Training Set Accuracy 1: 1.0\n",
            "    Test Set Accuracy 1: 0.7467532467532467\n",
            "\n"
          ]
        }
      ]
    },
    {
      "cell_type": "markdown",
      "metadata": {
        "id": "kMVq5V7rne_o"
      },
      "source": [
        "**Task B (5p)**\n",
        "\n",
        "Comment the results by specifying which is the **best model** in terms of fitting and which are the models that **overfit** or **underfit** the dataset."
      ]
    },
    {
      "cell_type": "code",
      "metadata": {
        "colab": {
          "base_uri": "https://localhost:8080/",
          "height": 88
        },
        "id": "WTiKPCSOniVj",
        "outputId": "791361ee-819f-46e8-ab87-76b5fd0a28b9"
      },
      "source": [
        "\"\"\"\n",
        "TODO - TASK B\n",
        "\n",
        "Modelul cu max_depth=5 oferă cel mai bun echilibru între acuratețea pe setul de antrenament și cel de test,\n",
        "indicând o capacitate bună de generalizare. Este deci cel mai potrivit model pentru această problemă.\n",
        "\n",
        "Modelul cu max_depth=1 underfitează datele, având performanțe slabe pe ambele seturi — este prea simplu\n",
        "pentru a surprinde relațiile din date.\n",
        "\n",
        "Modelul cu max_depth=32 overfitează — are acuratețe perfectă pe training, dar performanță semnificativ mai mică\n",
        "pe test, ceea ce înseamnă că nu generalizează bine.\n",
        "\"\"\""
      ],
      "execution_count": 49,
      "outputs": [
        {
          "output_type": "execute_result",
          "data": {
            "text/plain": [
              "'\\nTODO - TASK B\\n\\nModelul cu max_depth=5 oferă cel mai bun echilibru între acuratețea pe setul de antrenament și cel de test,\\nindicând o capacitate bună de generalizare. Este deci cel mai potrivit model pentru această problemă.\\n\\nModelul cu max_depth=1 underfitează datele, având performanțe slabe pe ambele seturi — este prea simplu\\npentru a surprinde relațiile din date.\\n\\nModelul cu max_depth=32 overfitează — are acuratețe perfectă pe training, dar performanță semnificativ mai mică\\npe test, ceea ce înseamnă că nu generalizează bine.\\n'"
            ],
            "application/vnd.google.colaboratory.intrinsic+json": {
              "type": "string"
            }
          },
          "metadata": {},
          "execution_count": 49
        }
      ]
    },
    {
      "cell_type": "markdown",
      "metadata": {
        "id": "tGpHojJxn5IT"
      },
      "source": [
        "**Exercise 4: Clustering (15p)**\n",
        "\n",
        "\n",
        "In this exercise, you will learn how to properly evaluate a **clustering model**. We chose a **K-means clustering algorithm** for this example, but feel free to explore other alternatives. You can find out more about K-means clustering algorithms [here](https://towardsdatascience.com/understanding-k-means-clustering-in-machine-learning-6a6e67336aa1). For all the associated tasks, you don't have to use any input dataset, because the clusters are generated in the skeleton. The model must learn how to group together **points in a 2D space**."
      ]
    },
    {
      "cell_type": "code",
      "metadata": {
        "id": "zlpxT-zyn7i_"
      },
      "source": [
        "# NOTE: You can play around with these values\n",
        "CLUSTERS = 4\n",
        "SAMPLES = 300\n",
        "CLUSTERS_STD = 2\n",
        "\n",
        "# Generate a dataset\n",
        "clustering_X, _ = make_blobs(n_samples=SAMPLES, centers=CLUSTERS, cluster_std=CLUSTERS_STD, random_state=13)"
      ],
      "execution_count": 50,
      "outputs": []
    },
    {
      "cell_type": "code",
      "metadata": {
        "colab": {
          "base_uri": "https://localhost:8080/",
          "height": 430
        },
        "id": "K3nbWrscpUHY",
        "outputId": "4de1cf8c-635e-444c-c6c5-21b9ad94e759"
      },
      "source": [
        "# Plot the freshly generated blobs\n",
        "plt.scatter(clustering_X[:, 0], clustering_X[:, 1], s=50)\n",
        "plt.show()"
      ],
      "execution_count": 51,
      "outputs": [
        {
          "output_type": "display_data",
          "data": {
            "text/plain": [
              "<Figure size 640x480 with 1 Axes>"
            ],
            "image/png": "[encoded data removed]"
          },
          "metadata": {}
        }
      ]
    },
    {
      "cell_type": "code",
      "metadata": {
        "id": "J36-gLd0pjgq"
      },
      "source": [
        "# Create a clustering model (less important: a K-means clustering algorithm will be used)\n",
        "clustering_model = KMeans(n_clusters=CLUSTERS, random_state=13)\n",
        "\n",
        "# Fit the data\n",
        "clustering_model.fit(clustering_X)\n",
        "\n",
        "# Predict a cluster number for each point\n",
        "clustering_y_pred = clustering_model.predict(clustering_X)"
      ],
      "execution_count": 52,
      "outputs": []
    },
    {
      "cell_type": "markdown",
      "metadata": {
        "id": "ZRosTyMlp6ad"
      },
      "source": [
        "Task A (5p)\n",
        "\n",
        "Compute the **silhouette score** of the model by using a *Scikit-learn* function found in the **metrics** package."
      ]
    },
    {
      "cell_type": "code",
      "metadata": {
        "colab": {
          "base_uri": "https://localhost:8080/"
        },
        "id": "nCKz4wLep9Ps",
        "outputId": "1542d9d4-a403-4715-b0ce-e9ee239ee6f2"
      },
      "source": [
        "# Compute the silhouette score of the clusters and print it\n",
        "# TODO - TASK A\n",
        "\n",
        "from sklearn.metrics import silhouette_score\n",
        "\n",
        "clustering_score = silhouette_score(clustering_X, clustering_y_pred)\n",
        "print_clustering_results(clustering_score)"
      ],
      "execution_count": 54,
      "outputs": [
        {
          "output_type": "stream",
          "name": "stdout",
          "text": [
            "\n",
            "~~~~~~~~~~~~~~~~ CLUSTERING RESULTS ~~~~~~~~~~~~~~~~\n",
            "Silhouette Score: 0.4923967156182758\n"
          ]
        }
      ]
    },
    {
      "cell_type": "markdown",
      "metadata": {
        "id": "RMTbmHxZqHsL"
      },
      "source": [
        "Task B (10p)\n",
        "\n",
        "Fetch the **centres of the clusters** (the model should already have them ready for you 😊) and **plot** them together with a **colourful 2D representation** of the data groups. Your plot should look similar to the one below:\n",
        "\n",
        "![cluster-centers](https://ocw.cs.pub.ro/courses/_media/ep/labs/22._clustering_plot.png?w=600&tok=262dc7)\n",
        "\n",
        "You can also play around with the **standard deviation** of the generated blobs and observe the different outcomes of the clustering algorithm:\n",
        "\n",
        "```\n",
        "CLUSTERS_STD = 2\n",
        "```\n",
        "\n",
        "You should be able to discuss these observations with the assistant.\n",
        "\n",
        "---\n",
        "> #### 🚨🚨🚨 **HINT:** The **plotting code** is very similar to the one found in the skeleton. You can also [Google](https://www.google.com/search?q=plot+k+means+cluster+python) it out. 😉.\n",
        "---\n",
        "\n",
        "Look at the hint above and solve the tasks marked with **TODO - TASK B**. Make **at least 3** changes to the standard deviation. That means that **3 plots should be generated**."
      ]
    },
    {
      "cell_type": "code",
      "metadata": {
        "id": "BCriDUzpqQqS",
        "colab": {
          "base_uri": "https://localhost:8080/",
          "height": 468
        },
        "outputId": "9762a45f-99eb-43a2-86c9-aaadec987699"
      },
      "source": [
        "# Fetch the centers of the clusters\n",
        "# TODO - TASK B\n",
        "centers = clustering_model.cluster_centers_\n",
        "\n",
        "# Pretty print the resulting clusters together with their centers\n",
        "# TODO - TASK B\n",
        "plt.figure(figsize=(6, 5))\n",
        "plt.scatter(clustering_X[:, 0], clustering_X[:, 1], c=clustering_y_pred, s=40, cmap='viridis')\n",
        "plt.scatter(centers[:, 0], centers[:, 1], c='black', s=200, alpha=0.75, marker='o')  # cluster centers\n",
        "plt.title('K-Means Clustering with Cluster Centers')\n",
        "plt.grid(True)\n",
        "plt.show()"
      ],
      "execution_count": 55,
      "outputs": [
        {
          "output_type": "display_data",
          "data": {
            "text/plain": [
              "<Figure size 600x500 with 1 Axes>"
            ],
            "image/png": "[encoded data removed]"
          },
          "metadata": {}
        }
      ]
    },
    {
      "cell_type": "markdown",
      "metadata": {
        "id": "qsMiJ-Pdgjpj"
      },
      "source": [
        "**Bonus: Feedback (10p)**\n",
        "\n",
        "Please take a minute to fill in the [feedback form](https://forms.gle/KHMVUhNfCPoR71Ew7) for this lab."
      ]
    },
    {
      "cell_type": "markdown",
      "source": [
        "![{17512EAF-924C-4AB8-BF7E-B22880B324FC}.png](data:image/png;base64,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)"
      ],
      "metadata": {
        "id": "2aR7FBefyBWG"
      }
    }
  ]
}